{
 "cells": [
  {
   "cell_type": "code",
   "execution_count": 9,
   "id": "differential-calendar",
   "metadata": {},
   "outputs": [],
   "source": [
    "import math\n",
    "import time\n",
    "import copy\n",
    "from datetime import datetime\n",
    "from pathlib import Path\n",
    "import shutil\n",
    "from glob import glob\n",
    "\n",
    "import torch\n",
    "import torch.nn as nn\n",
    "from torch.nn import Parameter\n",
    "import torch.optim as optim\n",
    "from torch.optim import lr_scheduler\n",
    "import torchvision.models as models\n",
    "import torchvision.transforms as transforms\n",
    "import torch.nn.functional as F\n",
    "\n",
    "from PIL import Image\n",
    "from tqdm.auto import tqdm\n",
    "\n",
    "import pandas as pd\n",
    "import numpy as np\n",
    "\n",
    "METRIC_DIM = 512\n",
    "IMG_SIZE = 112\n",
    "device = torch.device(\"cuda:0\")"
   ]
  },
  {
   "cell_type": "code",
   "execution_count": 10,
   "id": "neutral-yesterday",
   "metadata": {},
   "outputs": [],
   "source": [
    "# 훈련 이미지 리스트\n",
    "BASE_DIR = '/data/kts123/aihub/reid'\n",
    "train_imgs = '/data/kts123/aihub/reid/img_list_train.txt'"
   ]
  },
  {
   "cell_type": "code",
   "execution_count": null,
   "id": "challenging-miniature",
   "metadata": {},
   "outputs": [],
   "source": [
    "df = pd.read_csv(train_imgs)\n",
    "for kls, df_i in tqdm(df.groupby('KLS_IDX')):\n",
    "    dst_dir = f'train_imgs/{kls:05d}'\n",
    "    Path(dst_dir).mkdir(exist_ok=True, parents=True)\n",
    "    for name in df_i['NAME'].values:\n",
    "        src = f'{BASE_DIR}/{name}'\n",
    "        dst = f'{dst_dir}/{Path(name).name}'\n",
    "        shutil.copy(src, dst)"
   ]
  },
  {
   "cell_type": "code",
   "execution_count": 14,
   "id": "tough-jacob",
   "metadata": {},
   "outputs": [],
   "source": [
    "#val 이미지 리스트\n",
    "val_imgs = '/data/kts123/aihub/reid/img_list_val.txt'\n",
    "df = pd.read_csv(train_imgs)"
   ]
  },
  {
   "cell_type": "code",
   "execution_count": null,
   "id": "wrong-congo",
   "metadata": {},
   "outputs": [
    {
     "data": {
      "application/vnd.jupyter.widget-view+json": {
       "model_id": "",
       "version_major": 2,
       "version_minor": 0
      },
      "text/plain": [
       "  0%|          | 0/502 [00:00<?, ?it/s]"
      ]
     },
     "metadata": {},
     "output_type": "display_data"
    }
   ],
   "source": [
    "for kls, df_i in tqdm(df.groupby('KLS_IDX')):\n",
    "    dst_dir = f'val_imgs/{kls:05d}'\n",
    "    Path(dst_dir).mkdir(exist_ok=True, parents=True)\n",
    "    for name in df_i['NAME'].values:\n",
    "        src = f'{BASE_DIR}/{name}'\n",
    "        dst = f'{dst_dir}/{Path(name).name}'\n",
    "        shutil.copy(src, dst)"
   ]
  },
  {
   "cell_type": "code",
   "execution_count": 1,
   "id": "pending-detective",
   "metadata": {},
   "outputs": [],
   "source": [
    "from glob import glob\n",
    "from torch.utils.data import Dataset, DataLoader\n",
    "\n",
    "class FolderDataset(Dataset):\n",
    "    def __init__(self, root_dir, phase = 'train', trsf = lambda e: e):\n",
    "        imgs_total = glob(f'{root_dir}/*/*.jpg')\n",
    "        imgs_train = [e for e in imgs_total if int(Path(e).stem) < 100]\n",
    "        imgs_val   = [e for e in imgs_total if int(Path(e).stem) >= 100]\n",
    "        self.imgs = imgs_train if phase == 'train' else imgs_val\n",
    "        \n",
    "        self.class_names = set([p.split('/')[-2] for p in self.imgs])\n",
    "        self.class_names = sorted(list(self.class_names))\n",
    "        self.labels = [self.class_names.index(e.split('/')[-2]) for e in self.imgs]\n",
    "        self.trsf = trsf\n",
    "        \n",
    "    def num_labels(self):\n",
    "        return len(self.class_names)"
   ]
  },
  {
   "cell_type": "code",
   "execution_count": null,
   "id": "supposed-brake",
   "metadata": {},
   "outputs": [],
   "source": []
  }
 ],
 "metadata": {
  "kernelspec": {
   "display_name": "Python [conda env:gc21_3_3]",
   "language": "python",
   "name": "conda-env-gc21_3_3-py"
  },
  "language_info": {
   "codemirror_mode": {
    "name": "ipython",
    "version": 3
   },
   "file_extension": ".py",
   "mimetype": "text/x-python",
   "name": "python",
   "nbconvert_exporter": "python",
   "pygments_lexer": "ipython3",
   "version": "3.8.12"
  }
 },
 "nbformat": 4,
 "nbformat_minor": 5
}
