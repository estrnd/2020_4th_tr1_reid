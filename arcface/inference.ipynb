{
 "cells": [
  {
   "cell_type": "code",
   "execution_count": 7,
   "id": "naughty-anatomy",
   "metadata": {},
   "outputs": [],
   "source": [
    "# AI Hub ReID 데이터 셋으로 평가 (제안서에서는 실신 데이터로 한다고 작성했으므로 추후 데이터 변경 필요)\n",
    "\n",
    "# 평가 이미지 리스트\n",
    "BASE_DIR = '/data/kts123/aihub/reid'\n",
    "test_imgs = '/data/kts123/aihub/reid/img_list_test.txt'\n",
    "\n",
    "# 훈련된 모델경로\n",
    "weight_path = '/home/kts123/gc2021/3차/track3/arcface/checkpoints_res50_base/scheduler_resnet50_99.pth'"
   ]
  },
  {
   "cell_type": "code",
   "execution_count": 8,
   "id": "dramatic-beverage",
   "metadata": {},
   "outputs": [],
   "source": [
    "# 데이터셋, 데이터로더\n",
    "from data import dataset\n",
    "ds = dataset.DataSet(BASE_DIR, test_imgs, phase='test')"
   ]
  },
  {
   "cell_type": "code",
   "execution_count": null,
   "id": "saving-fossil",
   "metadata": {},
   "outputs": [],
   "source": []
  }
 ],
 "metadata": {
  "kernelspec": {
   "display_name": "Python [conda env:gc21_3_3]",
   "language": "python",
   "name": "conda-env-gc21_3_3-py"
  },
  "language_info": {
   "codemirror_mode": {
    "name": "ipython",
    "version": 3
   },
   "file_extension": ".py",
   "mimetype": "text/x-python",
   "name": "python",
   "nbconvert_exporter": "python",
   "pygments_lexer": "ipython3",
   "version": "3.8.12"
  }
 },
 "nbformat": 4,
 "nbformat_minor": 5
}
