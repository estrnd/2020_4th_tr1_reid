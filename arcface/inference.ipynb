{
 "cells": [
  {
   "cell_type": "code",
   "execution_count": 4,
   "id": "drawn-right",
   "metadata": {},
   "outputs": [],
   "source": [
    "# 평가 이미지 리스트\n",
    "BASE_DIR = '/data/kts123/aihub/reid'\n",
    "test_imgs = '/data/kts123/aihub/reid/img_list_test.txt'\n",
    "\n",
    "# 훈련된 모델경로\n",
    "weight_path = '/home/kts123/gc2021/3차/track3/arcface/checkpoints_res50_base/scheduler_resnet50_99.pth'"
   ]
  },
  {
   "cell_type": "code",
   "execution_count": 8,
   "id": "racial-cambridge",
   "metadata": {},
   "outputs": [],
   "source": [
    "# 평가용 데이터셋\n",
    "from data import dataset\n",
    "ds = dataset.DataSet(BASE_DIR, test_imgs, phase='test')"
   ]
  },
  {
   "cell_type": "code",
   "execution_count": 9,
   "id": "bacterial-attack",
   "metadata": {},
   "outputs": [],
   "source": [
    "# 평가용 데이터로더 생성\n",
    "from torch.utils.data import DataLoader\n",
    "dl = DataLoader(ds, num_workers=4, batch_size=32)"
   ]
  },
  {
   "cell_type": "code",
   "execution_count": 13,
   "id": "aging-representation",
   "metadata": {},
   "outputs": [
    {
     "name": "stdout",
     "output_type": "stream",
     "text": [
      "torch.Size([3, 224, 224])\n"
     ]
    },
    {
     "data": {
      "image/png": "[encoded data removed]",
      "text/plain": [
       "<PIL.PngImagePlugin.PngImageFile image mode=RGB size=54x118 at 0x7F13A714A730>"
      ]
     },
     "execution_count": 13,
     "metadata": {},
     "output_type": "execute_result"
    }
   ],
   "source": [
    "# 샘플 이미지 출력\n",
    "from PIL import Image\n",
    "im, kls, path = ds[2]\n",
    "print(im.shape)\n",
    "Image.open(path)"
   ]
  },
  {
   "cell_type": "code",
   "execution_count": null,
   "id": "identified-concert",
   "metadata": {},
   "outputs": [],
   "source": [
    "# 모델 로드\n",
    "def load_model(model, model_path):\n",
    "    model_dict = model.state_dict()\n",
    "    pretrained_dict = torch.load(model_path)\n",
    "    pretrained_dict = {k:v for k, v in pretrained_dict.items() if k in model_dict}\n",
    "    no_model_keys = [k for k, _ in pretrained_dict.items() if k in model_dict]\n",
    "    print('no_model_keys:', no_model_keys)\n",
    "\n",
    "    model_dict.update(pretrained_dict)\n",
    "    model.load_state_dict(model_dict)"
   ]
  }
 ],
 "metadata": {
  "kernelspec": {
   "display_name": "Python [conda env:gc21_3_3]",
   "language": "python",
   "name": "conda-env-gc21_3_3-py"
  },
  "language_info": {
   "codemirror_mode": {
    "name": "ipython",
    "version": 3
   },
   "file_extension": ".py",
   "mimetype": "text/x-python",
   "name": "python",
   "nbconvert_exporter": "python",
   "pygments_lexer": "ipython3",
   "version": "3.8.12"
  }
 },
 "nbformat": 4,
 "nbformat_minor": 5
}
