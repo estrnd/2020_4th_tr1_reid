{
 "cells": [
  {
   "cell_type": "code",
   "execution_count": 4,
   "id": "egyptian-invalid",
   "metadata": {},
   "outputs": [],
   "source": [
    "# 평가 이미지 리스트\n",
    "BASE_DIR = '/data/kts123/aihub/reid'\n",
    "test_imgs = '/data/kts123/aihub/reid/img_list_test.txt'\n",
    "\n",
    "# 훈련된 모델경로\n",
    "weight_path = '/home/kts123/gc2021/3차/track3/arcface/checkpoints_res50_base/scheduler_resnet50_99.pth'"
   ]
  },
  {
   "cell_type": "code",
   "execution_count": 5,
   "id": "educated-significance",
   "metadata": {},
   "outputs": [],
   "source": [
    "# 평가용 데이터셋\n",
    "from data import dataset\n",
    "ds = dataset.DataSet(BASE_DIR, test_imgs, phase='test')"
   ]
  },
  {
   "cell_type": "code",
   "execution_count": 6,
   "id": "vocational-toolbox",
   "metadata": {},
   "outputs": [],
   "source": [
    "# 평가용 데이터로더 생성\n",
    "from torch.utils.data import DataLoader\n",
    "ds = DataLoader(ds, num_workers=4, batch_size=32)"
   ]
  },
  {
   "cell_type": "code",
   "execution_count": null,
   "id": "abandoned-senior",
   "metadata": {},
   "outputs": [],
   "source": []
  }
 ],
 "metadata": {
  "kernelspec": {
   "display_name": "Python [conda env:gc21_3_3]",
   "language": "python",
   "name": "conda-env-gc21_3_3-py"
  },
  "language_info": {
   "codemirror_mode": {
    "name": "ipython",
    "version": 3
   },
   "file_extension": ".py",
   "mimetype": "text/x-python",
   "name": "python",
   "nbconvert_exporter": "python",
   "pygments_lexer": "ipython3",
   "version": "3.8.12"
  }
 },
 "nbformat": 4,
 "nbformat_minor": 5
}
