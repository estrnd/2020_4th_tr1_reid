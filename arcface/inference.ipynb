{
 "cells": [
  {
   "cell_type": "code",
   "execution_count": 1,
   "id": "prescribed-design",
   "metadata": {},
   "outputs": [],
   "source": [
    "# 평가 이미지 리스트\n",
    "BASE_DIR = '/data/kts123/aihub/reid'\n",
    "test_imgs = '/data/kts123/aihub/reid/img_list_test.txt'\n",
    "\n",
    "# 훈련된 모델경로\n",
    "weight_path = '/home/kts123/gc2021/3차/track3/arcface/checkpoints_res50_base/scheduler_resnet50_99.pth'"
   ]
  },
  {
   "cell_type": "code",
   "execution_count": 2,
   "id": "statutory-instrumentation",
   "metadata": {},
   "outputs": [],
   "source": [
    "# 평가용 데이터셋\n",
    "from data import dataset\n",
    "ds = dataset.DataSet(BASE_DIR, test_imgs, phase='test')"
   ]
  },
  {
   "cell_type": "code",
   "execution_count": 3,
   "id": "wrapped-cincinnati",
   "metadata": {},
   "outputs": [],
   "source": [
    "# 평가용 데이터로더 생성\n",
    "from torch.utils.data import DataLoader\n",
    "dl = DataLoader(ds, num_workers=4, batch_size=32)"
   ]
  },
  {
   "cell_type": "code",
   "execution_count": 4,
   "id": "original-extent",
   "metadata": {},
   "outputs": [
    {
     "name": "stdout",
     "output_type": "stream",
     "text": [
      "torch.Size([3, 224, 224])\n"
     ]
    },
    {
     "data": {
      "image/png": "[encoded data removed]",
      "text/plain": [
       "<PIL.PngImagePlugin.PngImageFile image mode=RGB size=52x150 at 0x7F44E48E0310>"
      ]
     },
     "execution_count": 4,
     "metadata": {},
     "output_type": "execute_result"
    }
   ],
   "source": [
    "# 샘플 이미지 출력\n",
    "from PIL import Image\n",
    "im, kls, path = ds[2]\n",
    "print(im.shape)\n",
    "Image.open(path)"
   ]
  },
  {
   "cell_type": "code",
   "execution_count": 5,
   "id": "ancient-anxiety",
   "metadata": {},
   "outputs": [],
   "source": [
    "# 모델 로드\n",
    "def load_model(model, model_path):\n",
    "    model_dict = model.state_dict()\n",
    "    pretrained_dict = torch.load(model_path)\n",
    "    pretrained_dict = {k:v for k, v in pretrained_dict.items() if k in model_dict}\n",
    "    no_model_keys = [k for k, _ in pretrained_dict.items() if k in model_dict]\n",
    "    print('no_model_keys:', no_model_keys)\n",
    "\n",
    "    model_dict.update(pretrained_dict)\n",
    "    model.load_state_dict(model_dict)\n",
    "    return model\n"
   ]
  },
  {
   "cell_type": "code",
   "execution_count": 6,
   "id": "labeled-words",
   "metadata": {},
   "outputs": [],
   "source": [
    "# 정확도 계산 유틸 함수\n",
    "def cal_accuracy(y_score, y_true):\n",
    "    y_score = np.asarray(y_score)\n",
    "    y_true = np.asarray(y_true)\n",
    "    best_acc = 0\n",
    "    best_th = 0\n",
    "    for i in range(len(y_score)):\n",
    "        th = y_score[i]\n",
    "        y_test = (y_score > th)\n",
    "        acc = np.mean((y_test == y_true).astype(int))\n",
    "        if acc > best_acc:\n",
    "            best_acc = acc\n",
    "            best_th = th\n",
    "\n",
    "    return (best_acc, best_th)"
   ]
  },
  {
   "cell_type": "code",
   "execution_count": 10,
   "id": "rotary-basketball",
   "metadata": {},
   "outputs": [
    {
     "name": "stdout",
     "output_type": "stream",
     "text": [
      "load pretrained model\n",
      "no_model_keys: []\n"
     ]
    }
   ],
   "source": [
    "# 학습된 모델 불러오기\n",
    "import torch\n",
    "from models import resnet50\n",
    "\n",
    "model = resnet50()\n",
    "model = load_model(model, weight_path)\n",
    "model = model.to('cuda')\n",
    "model = model.train(False)"
   ]
  },
  {
   "cell_type": "code",
   "execution_count": 11,
   "id": "every-estate",
   "metadata": {},
   "outputs": [
    {
     "name": "stdout",
     "output_type": "stream",
     "text": [
      "119361 3731\n"
     ]
    },
    {
     "data": {
      "application/vnd.jupyter.widget-view+json": {
       "model_id": "22d3cfe9fa3a4385ba85d6dd1503ebf6",
       "version_major": 2,
       "version_minor": 0
      },
      "text/plain": [
       "  0%|          | 0/3731 [00:00<?, ?it/s]"
      ]
     },
     "metadata": {},
     "output_type": "display_data"
    },
    {
     "data": {
      "text/plain": [
       "(torch.Size([119361, 512]), torch.Size([119361]), 119361)"
      ]
     },
     "execution_count": 11,
     "metadata": {},
     "output_type": "execute_result"
    }
   ],
   "source": [
    "# inference\n",
    "from tqdm.auto import tqdm\n",
    "ds = dataset.DataSet(BASE_DIR, test_imgs, phase='test')\n",
    "dl = DataLoader(ds, num_workers=8, batch_size=32)\n",
    "print(len(ds), len(dl))\n",
    "\n",
    "# 임베딩값\n",
    "total_embs = []\n",
    "\n",
    "# 대응되는 경로\n",
    "total_paths = []\n",
    "\n",
    "# 대응되는 클래스 아이디\n",
    "total_klss = []\n",
    "for i, (ims, klss, paths) in enumerate(tqdm(dl)):\n",
    "    ims = ims.to('cuda')\n",
    "    with torch.no_grad():\n",
    "        embs = model(ims).detach()\n",
    "    total_embs.append(embs)\n",
    "    total_paths.extend(paths)\n",
    "    total_klss.append(klss)\n",
    "total_embs= torch.cat(total_embs)\n",
    "total_klss = torch.cat(total_klss)\n",
    "total_embs.shape, total_klss.shape, len(total_paths)"
   ]
  },
  {
   "cell_type": "code",
   "execution_count": 29,
   "id": "whole-apparatus",
   "metadata": {},
   "outputs": [
    {
     "data": {
      "text/html": [
       "<div>\n",
       "<style scoped>\n",
       "    .dataframe tbody tr th:only-of-type {\n",
       "        vertical-align: middle;\n",
       "    }\n",
       "\n",
       "    .dataframe tbody tr th {\n",
       "        vertical-align: top;\n",
       "    }\n",
       "\n",
       "    .dataframe thead th {\n",
       "        text-align: right;\n",
       "    }\n",
       "</style>\n",
       "<table border=\"1\" class=\"dataframe\">\n",
       "  <thead>\n",
       "    <tr style=\"text-align: right;\">\n",
       "      <th></th>\n",
       "      <th>path</th>\n",
       "      <th>kls</th>\n",
       "      <th>emb</th>\n",
       "    </tr>\n",
       "  </thead>\n",
       "  <tbody>\n",
       "    <tr>\n",
       "      <th>0</th>\n",
       "      <td>/data/kts123/aihub/reid/val_imgs/OUT_H00933_SN...</td>\n",
       "      <td>909</td>\n",
       "      <td>[tensor(-0.4067), tensor(1.0210), tensor(0.166...</td>\n",
       "    </tr>\n",
       "    <tr>\n",
       "      <th>1</th>\n",
       "      <td>/data/kts123/aihub/reid/val_imgs/OUT_H00272_SN...</td>\n",
       "      <td>252</td>\n",
       "      <td>[tensor(-0.8283), tensor(0.8893), tensor(1.996...</td>\n",
       "    </tr>\n",
       "    <tr>\n",
       "      <th>2</th>\n",
       "      <td>/data/kts123/aihub/reid/val_imgs/OUT_H00157_SN...</td>\n",
       "      <td>138</td>\n",
       "      <td>[tensor(-0.5044), tensor(-0.6650), tensor(-0.1...</td>\n",
       "    </tr>\n",
       "    <tr>\n",
       "      <th>3</th>\n",
       "      <td>/data/kts123/aihub/reid/val_imgs/IN_H00870_SN3...</td>\n",
       "      <td>846</td>\n",
       "      <td>[tensor(-2.1613), tensor(1.5503), tensor(1.964...</td>\n",
       "    </tr>\n",
       "    <tr>\n",
       "      <th>4</th>\n",
       "      <td>/data/kts123/aihub/reid/val_imgs/IN_H00889_SN3...</td>\n",
       "      <td>865</td>\n",
       "      <td>[tensor(-1.5020), tensor(0.1459), tensor(-0.61...</td>\n",
       "    </tr>\n",
       "    <tr>\n",
       "      <th>...</th>\n",
       "      <td>...</td>\n",
       "      <td>...</td>\n",
       "      <td>...</td>\n",
       "    </tr>\n",
       "    <tr>\n",
       "      <th>119356</th>\n",
       "      <td>/data/kts123/aihub/reid/val_imgs/OUT_H00382_SN...</td>\n",
       "      <td>362</td>\n",
       "      <td>[tensor(-0.6854), tensor(-0.5850), tensor(0.32...</td>\n",
       "    </tr>\n",
       "    <tr>\n",
       "      <th>119357</th>\n",
       "      <td>/data/kts123/aihub/reid/val_imgs/IN_H00854_SN4...</td>\n",
       "      <td>830</td>\n",
       "      <td>[tensor(-1.3758), tensor(-1.3641), tensor(1.62...</td>\n",
       "    </tr>\n",
       "    <tr>\n",
       "      <th>119358</th>\n",
       "      <td>/data/kts123/aihub/reid/val_imgs/OUT_H00681_SN...</td>\n",
       "      <td>658</td>\n",
       "      <td>[tensor(-0.6240), tensor(1.4484), tensor(0.677...</td>\n",
       "    </tr>\n",
       "    <tr>\n",
       "      <th>119359</th>\n",
       "      <td>/data/kts123/aihub/reid/val_imgs/OUT_H00139_SN...</td>\n",
       "      <td>120</td>\n",
       "      <td>[tensor(-1.3267), tensor(-0.9377), tensor(1.04...</td>\n",
       "    </tr>\n",
       "    <tr>\n",
       "      <th>119360</th>\n",
       "      <td>/data/kts123/aihub/reid/val_imgs/OUT_H00159_SN...</td>\n",
       "      <td>140</td>\n",
       "      <td>[tensor(-0.5620), tensor(-0.7898), tensor(-0.2...</td>\n",
       "    </tr>\n",
       "  </tbody>\n",
       "</table>\n",
       "<p>119361 rows × 3 columns</p>\n",
       "</div>"
      ],
      "text/plain": [
       "                                                     path  kls  \\\n",
       "0       /data/kts123/aihub/reid/val_imgs/OUT_H00933_SN...  909   \n",
       "1       /data/kts123/aihub/reid/val_imgs/OUT_H00272_SN...  252   \n",
       "2       /data/kts123/aihub/reid/val_imgs/OUT_H00157_SN...  138   \n",
       "3       /data/kts123/aihub/reid/val_imgs/IN_H00870_SN3...  846   \n",
       "4       /data/kts123/aihub/reid/val_imgs/IN_H00889_SN3...  865   \n",
       "...                                                   ...  ...   \n",
       "119356  /data/kts123/aihub/reid/val_imgs/OUT_H00382_SN...  362   \n",
       "119357  /data/kts123/aihub/reid/val_imgs/IN_H00854_SN4...  830   \n",
       "119358  /data/kts123/aihub/reid/val_imgs/OUT_H00681_SN...  658   \n",
       "119359  /data/kts123/aihub/reid/val_imgs/OUT_H00139_SN...  120   \n",
       "119360  /data/kts123/aihub/reid/val_imgs/OUT_H00159_SN...  140   \n",
       "\n",
       "                                                      emb  \n",
       "0       [tensor(-0.4067), tensor(1.0210), tensor(0.166...  \n",
       "1       [tensor(-0.8283), tensor(0.8893), tensor(1.996...  \n",
       "2       [tensor(-0.5044), tensor(-0.6650), tensor(-0.1...  \n",
       "3       [tensor(-2.1613), tensor(1.5503), tensor(1.964...  \n",
       "4       [tensor(-1.5020), tensor(0.1459), tensor(-0.61...  \n",
       "...                                                   ...  \n",
       "119356  [tensor(-0.6854), tensor(-0.5850), tensor(0.32...  \n",
       "119357  [tensor(-1.3758), tensor(-1.3641), tensor(1.62...  \n",
       "119358  [tensor(-0.6240), tensor(1.4484), tensor(0.677...  \n",
       "119359  [tensor(-1.3267), tensor(-0.9377), tensor(1.04...  \n",
       "119360  [tensor(-0.5620), tensor(-0.7898), tensor(-0.2...  \n",
       "\n",
       "[119361 rows x 3 columns]"
      ]
     },
     "execution_count": 29,
     "metadata": {},
     "output_type": "execute_result"
    }
   ],
   "source": [
    "# 결과값을 DataFrame 형태로 정리\n",
    "import pandas as pd\n",
    "df = pd.DataFrame({\n",
    "    'path':total_paths, \n",
    "    'kls':total_klss.cpu(), \n",
    "    'emb':list(total_embs.cpu())})\n",
    "df"
   ]
  },
  {
   "cell_type": "code",
   "execution_count": null,
   "id": "million-danish",
   "metadata": {},
   "outputs": [],
   "source": [
    "total_paths"
   ]
  }
 ],
 "metadata": {
  "kernelspec": {
   "display_name": "Python [conda env:gc21_3_3]",
   "language": "python",
   "name": "conda-env-gc21_3_3-py"
  },
  "language_info": {
   "codemirror_mode": {
    "name": "ipython",
    "version": 3
   },
   "file_extension": ".py",
   "mimetype": "text/x-python",
   "name": "python",
   "nbconvert_exporter": "python",
   "pygments_lexer": "ipython3",
   "version": "3.8.12"
  }
 },
 "nbformat": 4,
 "nbformat_minor": 5
}
