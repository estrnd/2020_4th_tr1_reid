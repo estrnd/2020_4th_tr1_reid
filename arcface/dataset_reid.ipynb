{
 "cells": [
  {
   "cell_type": "code",
   "execution_count": 1,
   "id": "cultural-analyst",
   "metadata": {},
   "outputs": [],
   "source": [
    "# 전처리된 ai hub reid 데이터셋 로드\n",
    "from config_reid import ReIDConfig as cfg\n",
    "from data import get_datasets"
   ]
  },
  {
   "cell_type": "code",
   "execution_count": 2,
   "id": "upset-selection",
   "metadata": {},
   "outputs": [
    {
     "data": {
      "text/plain": [
       "['/data/kts123/aihub/reid/img_list_train.txt',\n",
       " '/data/kts123/aihub/reid/img_list_val.txt',\n",
       " '/data/kts123/aihub/reid/img_list_val.txt']"
      ]
     },
     "execution_count": 2,
     "metadata": {},
     "output_type": "execute_result"
    }
   ],
   "source": [
    "# 각 phase의 라벨 파일 경로 출력\n",
    "[cfg.train_list, cfg.val_list, cfg.test_list]"
   ]
  },
  {
   "cell_type": "code",
   "execution_count": 3,
   "id": "peripheral-coral",
   "metadata": {},
   "outputs": [
    {
     "name": "stderr",
     "output_type": "stream",
     "text": [
      "/home/kts123/miniconda3/envs/gc21_3_3/lib/python3.8/site-packages/imgaug/imgaug.py:184: DeprecationWarning: Function `Scale()` is deprecated. Use `Resize` instead. Resize has the exactly same interface as Scale.\n",
      "  warn_deprecated(msg, stacklevel=3)\n"
     ]
    },
    {
     "data": {
      "text/plain": [
       "(120359, 28660)"
      ]
     },
     "execution_count": 3,
     "metadata": {},
     "output_type": "execute_result"
    }
   ],
   "source": [
    "# 데이터셋 얻어오기\n",
    "ds = get_datasets(cfg)\n",
    "ds_t, ds_v = ds['train'], ds['val']\n",
    "len(ds_t), len(ds_v)"
   ]
  },
  {
   "cell_type": "code",
   "execution_count": 4,
   "id": "lyric-utility",
   "metadata": {},
   "outputs": [
    {
     "data": {
      "text/plain": [
       "False"
      ]
     },
     "execution_count": 4,
     "metadata": {},
     "output_type": "execute_result"
    }
   ],
   "source": [
    "# 샘플 데이터 검토\n",
    "idx = 123\n",
    "s_t = [e for e in ds_t.imgs if e['KLS_IDX'] == 500]\n",
    "len(s_t)\n",
    "s_t[0]['KLS_IDX'] == 599"
   ]
  },
  {
   "cell_type": "code",
   "execution_count": 5,
   "id": "animal-target",
   "metadata": {},
   "outputs": [
    {
     "data": {
      "text/plain": [
       "array([{'NAME': 'train_imgs/IN_H00328_SN3_091602_14265.png', 'KLS_IDX': 308},\n",
       "       {'NAME': 'train_imgs/OUT_H00100_SN3_081710_19346.png', 'KLS_IDX': 81},\n",
       "       {'NAME': 'train_imgs/OUT_H00534_SN4_092801_10471.png', 'KLS_IDX': 511},\n",
       "       ...,\n",
       "       {'NAME': 'train_imgs/IN_H00317_SN4_091602_30362.png', 'KLS_IDX': 297},\n",
       "       {'NAME': 'train_imgs/IN_H00962_SN4_110204_20346.png', 'KLS_IDX': 938},\n",
       "       {'NAME': 'train_imgs/OUT_H00613_SN3_100704_31425.png', 'KLS_IDX': 590}],\n",
       "      dtype=object)"
      ]
     },
     "execution_count": 5,
     "metadata": {},
     "output_type": "execute_result"
    }
   ],
   "source": [
    "# valid 이미지 리스트 출력해 보기\n",
    "ds_v.imgs"
   ]
  },
  {
   "cell_type": "code",
   "execution_count": 9,
   "id": "affecting-genesis",
   "metadata": {},
   "outputs": [
    {
     "name": "stdout",
     "output_type": "stream",
     "text": [
      "{'NAME': 'train_imgs/OUT_H00611_SN1_100709_21231.png', 'KLS_IDX': 588}\n"
     ]
    },
    {
     "ename": "FileNotFoundError",
     "evalue": "[Errno 2] No such file or directory: 'train_imgs/OUT_H00611_SN1_100709_21231.png'",
     "output_type": "error",
     "traceback": [
      "\u001b[0;31m---------------------------------------------------------------------------\u001b[0m",
      "\u001b[0;31mFileNotFoundError\u001b[0m                         Traceback (most recent call last)",
      "\u001b[0;32m/tmp/ipykernel_33227/2822119795.py\u001b[0m in \u001b[0;36m<module>\u001b[0;34m\u001b[0m\n\u001b[1;32m      4\u001b[0m \u001b[0mim\u001b[0m \u001b[0;34m=\u001b[0m \u001b[0mrandom\u001b[0m\u001b[0;34m.\u001b[0m\u001b[0mchoice\u001b[0m\u001b[0;34m(\u001b[0m\u001b[0mds_v\u001b[0m\u001b[0;34m.\u001b[0m\u001b[0mimgs\u001b[0m\u001b[0;34m)\u001b[0m\u001b[0;34m\u001b[0m\u001b[0;34m\u001b[0m\u001b[0m\n\u001b[1;32m      5\u001b[0m \u001b[0mprint\u001b[0m\u001b[0;34m(\u001b[0m\u001b[0mim\u001b[0m\u001b[0;34m)\u001b[0m\u001b[0;34m\u001b[0m\u001b[0;34m\u001b[0m\u001b[0m\n\u001b[0;32m----> 6\u001b[0;31m \u001b[0mImage\u001b[0m\u001b[0;34m.\u001b[0m\u001b[0mopen\u001b[0m\u001b[0;34m(\u001b[0m\u001b[0mim\u001b[0m\u001b[0;34m[\u001b[0m\u001b[0;34m'NAME'\u001b[0m\u001b[0;34m]\u001b[0m\u001b[0;34m)\u001b[0m\u001b[0;34m\u001b[0m\u001b[0;34m\u001b[0m\u001b[0m\n\u001b[0m",
      "\u001b[0;32m~/miniconda3/envs/gc21_3_3/lib/python3.8/site-packages/PIL/Image.py\u001b[0m in \u001b[0;36mopen\u001b[0;34m(fp, mode, formats)\u001b[0m\n\u001b[1;32m   2973\u001b[0m \u001b[0;34m\u001b[0m\u001b[0m\n\u001b[1;32m   2974\u001b[0m     \u001b[0;32mif\u001b[0m \u001b[0mfilename\u001b[0m\u001b[0;34m:\u001b[0m\u001b[0;34m\u001b[0m\u001b[0;34m\u001b[0m\u001b[0m\n\u001b[0;32m-> 2975\u001b[0;31m         \u001b[0mfp\u001b[0m \u001b[0;34m=\u001b[0m \u001b[0mbuiltins\u001b[0m\u001b[0;34m.\u001b[0m\u001b[0mopen\u001b[0m\u001b[0;34m(\u001b[0m\u001b[0mfilename\u001b[0m\u001b[0;34m,\u001b[0m \u001b[0;34m\"rb\"\u001b[0m\u001b[0;34m)\u001b[0m\u001b[0;34m\u001b[0m\u001b[0;34m\u001b[0m\u001b[0m\n\u001b[0m\u001b[1;32m   2976\u001b[0m         \u001b[0mexclusive_fp\u001b[0m \u001b[0;34m=\u001b[0m \u001b[0;32mTrue\u001b[0m\u001b[0;34m\u001b[0m\u001b[0;34m\u001b[0m\u001b[0m\n\u001b[1;32m   2977\u001b[0m \u001b[0;34m\u001b[0m\u001b[0m\n",
      "\u001b[0;31mFileNotFoundError\u001b[0m: [Errno 2] No such file or directory: 'train_imgs/OUT_H00611_SN1_100709_21231.png'"
     ]
    }
   ],
   "source": [
    "# 샘플 이미지 출력\n",
    "import random\n",
    "from PIL import Image\n",
    "BASE_DIR = '/data/kts123/'\n",
    "im = random.choice(ds_v.imgs)\n",
    "print(im)\n",
    "Image.open(im['NAME'])"
   ]
  },
  {
   "cell_type": "code",
   "execution_count": null,
   "id": "referenced-zimbabwe",
   "metadata": {},
   "outputs": [],
   "source": []
  }
 ],
 "metadata": {
  "kernelspec": {
   "display_name": "Python [conda env:gc21_3_3]",
   "language": "python",
   "name": "conda-env-gc21_3_3-py"
  },
  "language_info": {
   "codemirror_mode": {
    "name": "ipython",
    "version": 3
   },
   "file_extension": ".py",
   "mimetype": "text/x-python",
   "name": "python",
   "nbconvert_exporter": "python",
   "pygments_lexer": "ipython3",
   "version": "3.8.12"
  }
 },
 "nbformat": 4,
 "nbformat_minor": 5
}
