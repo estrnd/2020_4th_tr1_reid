{
 "cells": [
  {
   "cell_type": "code",
   "execution_count": 10,
   "id": "premier-conversion",
   "metadata": {},
   "outputs": [],
   "source": [
    "from config_reid import ReIDConfig as cfg\n",
    "from data import get_datasets"
   ]
  },
  {
   "cell_type": "code",
   "execution_count": 14,
   "id": "severe-requirement",
   "metadata": {},
   "outputs": [
    {
     "data": {
      "text/plain": [
       "['/data/kts123/aihub/reid/img_list_train.txt',\n",
       " '/data/kts123/aihub/reid/img_list_val.txt',\n",
       " '/data/kts123/aihub/reid/img_list_val.txt']"
      ]
     },
     "execution_count": 14,
     "metadata": {},
     "output_type": "execute_result"
    }
   ],
   "source": [
    "[cfg.train_list, cfg.val_list, cfg.test_list]"
   ]
  },
  {
   "cell_type": "code",
   "execution_count": 20,
   "id": "loaded-rocket",
   "metadata": {},
   "outputs": [
    {
     "data": {
      "text/plain": [
       "(149019, 119361)"
      ]
     },
     "execution_count": 20,
     "metadata": {},
     "output_type": "execute_result"
    }
   ],
   "source": [
    "ds = get_datasets(cfg)\n",
    "ds_t, ds_v = ds['train'], ds['val']\n",
    "len(ds_t), len(ds_v)"
   ]
  },
  {
   "cell_type": "code",
   "execution_count": 34,
   "id": "regional-league",
   "metadata": {},
   "outputs": [
    {
     "data": {
      "text/plain": [
       "False"
      ]
     },
     "execution_count": 34,
     "metadata": {},
     "output_type": "execute_result"
    }
   ],
   "source": [
    "idx = 123\n",
    "s_t = [e for e in ds_t.imgs if e['KLS_IDX'] == 500]\n",
    "len(s_t)\n",
    "s_t[0]['KLS_IDX'] == 599"
   ]
  },
  {
   "cell_type": "code",
   "execution_count": 23,
   "id": "documentary-latino",
   "metadata": {},
   "outputs": [
    {
     "data": {
      "text/plain": [
       "array([{'NAME': 'val_imgs/OUT_H00182_SN1_081905_19278.png', 'KLS_IDX': 163},\n",
       "       {'NAME': 'val_imgs/IN_H00848_SN2_102702_10900.png', 'KLS_IDX': 824},\n",
       "       {'NAME': 'val_imgs/OUT_H00234_SN3_082004_28133.png', 'KLS_IDX': 215},\n",
       "       ...,\n",
       "       {'NAME': 'val_imgs/OUT_H00206_SN3_082006_23483.png', 'KLS_IDX': 187},\n",
       "       {'NAME': 'val_imgs/OUT_H00226_SN2_082005_15777.png', 'KLS_IDX': 207},\n",
       "       {'NAME': 'val_imgs/OUT_H00140_SN3_081805_24833.png', 'KLS_IDX': 121}],\n",
       "      dtype=object)"
      ]
     },
     "execution_count": 23,
     "metadata": {},
     "output_type": "execute_result"
    }
   ],
   "source": [
    "ds_v.imgs"
   ]
  },
  {
   "cell_type": "code",
   "execution_count": null,
   "id": "banner-cheese",
   "metadata": {},
   "outputs": [],
   "source": []
  }
 ],
 "metadata": {
  "kernelspec": {
   "display_name": "Python [conda env:gc21_3_3]",
   "language": "python",
   "name": "conda-env-gc21_3_3-py"
  },
  "language_info": {
   "codemirror_mode": {
    "name": "ipython",
    "version": 3
   },
   "file_extension": ".py",
   "mimetype": "text/x-python",
   "name": "python",
   "nbconvert_exporter": "python",
   "pygments_lexer": "ipython3",
   "version": "3.8.12"
  }
 },
 "nbformat": 4,
 "nbformat_minor": 5
}
