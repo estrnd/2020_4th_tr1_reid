{
 "cells": [
  {
   "cell_type": "code",
   "execution_count": 10,
   "id": "roman-italy",
   "metadata": {},
   "outputs": [],
   "source": [
    "# 전처리된 ai hub reid 데이터셋 로드\n",
    "from config_reid import ReIDConfig as cfg\n",
    "from data import get_datasets"
   ]
  },
  {
   "cell_type": "code",
   "execution_count": null,
   "id": "applied-pavilion",
   "metadata": {},
   "outputs": [],
   "source": [
    "# 각 phase의 라벨 파일 경로 출력\n",
    "[cfg.train_list, cfg.val_list, cfg.test_list]"
   ]
  }
 ],
 "metadata": {
  "kernelspec": {
   "display_name": "Python [conda env:gc21_3_3]",
   "language": "python",
   "name": "conda-env-gc21_3_3-py"
  },
  "language_info": {
   "codemirror_mode": {
    "name": "ipython",
    "version": 3
   },
   "file_extension": ".py",
   "mimetype": "text/x-python",
   "name": "python",
   "nbconvert_exporter": "python",
   "pygments_lexer": "ipython3",
   "version": "3.8.12"
  }
 },
 "nbformat": 4,
 "nbformat_minor": 5
}
