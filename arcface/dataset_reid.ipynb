{
 "cells": [
  {
   "cell_type": "code",
   "execution_count": 10,
   "id": "intended-spine",
   "metadata": {},
   "outputs": [],
   "source": [
    "# 전처리된 ai hub reid 데이터셋 로드\n",
    "from config_reid import ReIDConfig as cfg\n",
    "from data import get_datasets"
   ]
  },
  {
   "cell_type": "code",
   "execution_count": null,
   "id": "preceding-syndicate",
   "metadata": {},
   "outputs": [],
   "source": [
    "# 각 phase의 라벨 파일 경로 출력\n",
    "[cfg.train_list, cfg.val_list, cfg.test_list]"
   ]
  },
  {
   "cell_type": "code",
   "execution_count": null,
   "id": "humanitarian-liverpool",
   "metadata": {},
   "outputs": [],
   "source": [
    "# 데이터셋 얻어오기\n",
    "ds = get_datasets(cfg)\n",
    "ds_t, ds_v = ds['train'], ds['val']\n",
    "len(ds_t), len(ds_v)"
   ]
  },
  {
   "cell_type": "code",
   "execution_count": null,
   "id": "dangerous-bidder",
   "metadata": {},
   "outputs": [],
   "source": [
    "# 샘플 데이터 검토\n",
    "idx = 123\n",
    "s_t = [e for e in ds_t.imgs if e['KLS_IDX'] == 500]\n",
    "len(s_t)\n",
    "s_t[0]['KLS_IDX'] == 599"
   ]
  }
 ],
 "metadata": {
  "kernelspec": {
   "display_name": "Python [conda env:gc21_3_3]",
   "language": "python",
   "name": "conda-env-gc21_3_3-py"
  },
  "language_info": {
   "codemirror_mode": {
    "name": "ipython",
    "version": 3
   },
   "file_extension": ".py",
   "mimetype": "text/x-python",
   "name": "python",
   "nbconvert_exporter": "python",
   "pygments_lexer": "ipython3",
   "version": "3.8.12"
  }
 },
 "nbformat": 4,
 "nbformat_minor": 5
}
