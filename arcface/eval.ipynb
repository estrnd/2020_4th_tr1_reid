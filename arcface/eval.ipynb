{
 "cells": [
  {
   "cell_type": "code",
   "execution_count": 19,
   "id": "minute-freight",
   "metadata": {},
   "outputs": [],
   "source": [
    "# dependency package import\n",
    "\n",
    "import os\n",
    "\n",
    "import math\n",
    "import time\n",
    "import random\n",
    "import shutil\n",
    "from datetime import datetime\n",
    "from pathlib import Path\n",
    "\n",
    "from glob import glob\n",
    "\n",
    "import torch\n",
    "import torch.nn as nn\n",
    "import torchvision.models as models\n",
    "import torchvision.transforms as transforms\n",
    "import torch.nn.functional as F\n",
    "from torch.utils.data import Dataset, DataLoader\n",
    "\n",
    "import pandas as pd\n",
    "import numpy as np\n",
    "\n",
    "from PIL import Image\n",
    "from tqdm.auto import tqdm"
   ]
  },
  {
   "cell_type": "code",
   "execution_count": 20,
   "id": "accessory-planet",
   "metadata": {},
   "outputs": [],
   "source": [
    "# 평가 이미지 리스트\n",
    "BASE_DIR = '/data/kts123/aihub/reid'\n",
    "test_imgs = '/data/kts123/aihub/reid/img_list_test.txt'\n",
    "\n",
    "# 훈련된 모델경로\n",
    "weight_path = '/home/kts123/gc2021/3차/track3/arcface/checkpoints_res50_base/scheduler_resnet50_99.pth'"
   ]
  },
  {
   "cell_type": "code",
   "execution_count": 29,
   "id": "approximate-lighter",
   "metadata": {},
   "outputs": [
    {
     "data": {
      "application/vnd.jupyter.widget-view+json": {
       "model_id": "2ef601b52a034e9fb2057c9e912b1ef6",
       "version_major": 2,
       "version_minor": 0
      },
      "text/plain": [
       "  0%|          | 0/500 [00:00<?, ?it/s]"
      ]
     },
     "metadata": {},
     "output_type": "display_data"
    }
   ],
   "source": [
    "df = pd.read_csv(test_imgs)\n",
    "for kls, df_i in tqdm(df.groupby('KLS_IDX')):\n",
    "    dst_dir = f'eval_imgs/{kls:05d}'\n",
    "    Path(dst_dir).mkdir(exist_ok=True, parents=True)\n",
    "    for name in df_i['NAME'].values:\n",
    "        src = f'{BASE_DIR}/{name}'\n",
    "        dst = f'{dst_dir}/{Path(name).name}'\n",
    "        shutil.copy(src, dst)"
   ]
  },
  {
   "cell_type": "code",
   "execution_count": 30,
   "id": "right-trouble",
   "metadata": {},
   "outputs": [],
   "source": [
    "class EvalDataset(Dataset):\n",
    "    def __init__(self, root_dir, trsf):\n",
    "        \n",
    "        to_pname = lambda x : Path(x).parent.name\n",
    "        \n",
    "        imgs = sorted(glob(f'{root_dir}/*/*.jpg'))\n",
    "        pnames = list({to_pname(e) for e in imgs})\n",
    "        \n",
    "        to_label = lambda x: pnames.index(to_pname(x)) \n",
    "        self.imgs = [[to_label(e), e] for e in tqdm(imgs)]\n",
    "        self.trsf = trsf \n",
    "        self.num_labels = len(pnames)"
   ]
  },
  {
   "cell_type": "code",
   "execution_count": null,
   "id": "adapted-peace",
   "metadata": {},
   "outputs": [],
   "source": []
  }
 ],
 "metadata": {
  "kernelspec": {
   "display_name": "Python [conda env:gc21_3_3]",
   "language": "python",
   "name": "conda-env-gc21_3_3-py"
  },
  "language_info": {
   "codemirror_mode": {
    "name": "ipython",
    "version": 3
   },
   "file_extension": ".py",
   "mimetype": "text/x-python",
   "name": "python",
   "nbconvert_exporter": "python",
   "pygments_lexer": "ipython3",
   "version": "3.8.12"
  }
 },
 "nbformat": 4,
 "nbformat_minor": 5
}
