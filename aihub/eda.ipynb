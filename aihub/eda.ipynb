{
 "cells": [
  {
   "cell_type": "code",
   "execution_count": null,
   "id": "alpha-pipeline",
   "metadata": {},
   "outputs": [],
   "source": [
    "# 모든 파일 리스팅\n",
    "import pandas as pd\n",
    "from glob import glob\n",
    "from pathlib import Path\n",
    "from tqdm import tqdm\n",
    "import random\n",
    "\n",
    "# ai hub 의 데이터는 train 과 valid 로 나누어져 있다.\n",
    "# 동일한 사람이 두 셋에 동시에 나오지 않는다.\n",
    "train_imgs = glob('train_imgs/*.png')\n",
    "test_imgs = glob('val_imgs/*.png')\n",
    "\n",
    "# 이미지 갯수를 출력해 본다.\n",
    "len(train_imgs), len(test_imgs)"
   ]
  },
  {
   "cell_type": "code",
   "execution_count": null,
   "id": "designed-skill",
   "metadata": {},
   "outputs": [],
   "source": [
    "# ai hub 의 train 이미지를 train/val로 쓰고\n",
    "#           val 이미지를 test로 쓴다.\n",
    "def to_label(imgs, phase):\n",
    "    label = [[Path(e).stem, e] for e in imgs]\n",
    "    label = [s.split('_') + [n] for s, n in label]\n",
    "    df = pd.DataFrame(label, columns=['INOUT', 'PID', 'SN', 'D1', 'D2', 'NAME'])\n",
    "    df['K_SN'] = df['PID'] + '_' + df['SN']\n",
    "    df['K_D1'] = df['K_SN'] + '_' + df['D1']\n",
    "    df['K_D2'] = df['K_D1'] + '_' + df['D2'] \n",
    "    df['CLS_NAME'] = df['K_SN']\n",
    "    df['PHASE'] = p"
   ]
  },
  {
   "cell_type": "code",
   "execution_count": null,
   "id": "appointed-reducing",
   "metadata": {},
   "outputs": [],
   "source": [
    "# train 과 test를 DataFrame 포멧으로 만든다. \n",
    "df_train = to_label(train_imgs, 'train')\n",
    "df_test = to_label(test_imgs, 'test')\n",
    "\n",
    "# 하나의 DataFrame 으로 통합한다.\n",
    "df_total = pd.concat([df_train, df_test])\n",
    "\n",
    "# 통합된 데이터 프레임을 출력해 본다\n",
    "df_total"
   ]
  },
  {
   "cell_type": "code",
   "execution_count": null,
   "id": "engaging-westminster",
   "metadata": {},
   "outputs": [],
   "source": [
    "# 통계 정보를 출력해 본다\n",
    "df_total[['SN','PID','K_SN', 'K_D1', 'K_D2', 'CLS_NAME']].describe()"
   ]
  }
 ],
 "metadata": {
  "kernelspec": {
   "display_name": "Python [conda env:infer_3_3]",
   "language": "python",
   "name": "conda-env-infer_3_3-py"
  },
  "language_info": {
   "codemirror_mode": {
    "name": "ipython",
    "version": 3
   },
   "file_extension": ".py",
   "mimetype": "text/x-python",
   "name": "python",
   "nbconvert_exporter": "python",
   "pygments_lexer": "ipython3",
   "version": "3.8.12"
  }
 },
 "nbformat": 4,
 "nbformat_minor": 5
}
