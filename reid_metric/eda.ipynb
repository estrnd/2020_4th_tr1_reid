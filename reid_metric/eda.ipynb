{
 "cells": [
  {
   "cell_type": "code",
   "execution_count": null,
   "id": "pending-ordering",
   "metadata": {},
   "outputs": [],
   "source": [
    "# 모든 파일 리스팅\n",
    "import pandas as pd\n",
    "from glob import glob\n",
    "from pathlib import Path\n",
    "from tqdm import tqdm\n",
    "import random\n",
    "\n",
    "train_imgs = glob('train_imgs/*.png')\n",
    "test_imgs = glob('val_imgs/*.png')\n",
    "len(train_imgs), len(test_imgs)"
   ]
  },
  {
   "cell_type": "code",
   "execution_count": null,
   "id": "internal-athens",
   "metadata": {},
   "outputs": [],
   "source": [
    "# ai hub 의 train 이미지를 train/val로 쓰고\n",
    "#           val 이미지를 test로 쓴다.\n",
    "def to_label(imgs, phase):\n",
    "    label = [[Path(e).stem, e] for e in imgs]\n",
    "    label = [s.split('_') + [n] for s, n in label]\n",
    "    df = pd.DataFrame(label, columns=['INOUT', 'PID', 'SN', 'D1', 'D2', 'NAME'])\n",
    "    df['K_SN'] = df['PID'] + '_' + df['SN']\n",
    "    df['K_D1'] = df['K_SN'] + '_' + df['D1']\n",
    "    df['K_D2'] = df['K_D1'] + '_' + df['D2'] \n",
    "    df['CLS_NAME'] = df['K_SN']\n",
    "    df['PHASE'] = phase\n",
    "    return df\n",
    "    \n",
    "df_train = to_label(train_imgs, 'train')\n",
    "df_test = to_label(test_imgs, 'test')\n",
    "df_total = pd.concat([df_train, df_test])\n",
    "df_total"
   ]
  },
  {
   "cell_type": "code",
   "execution_count": null,
   "id": "basic-eclipse",
   "metadata": {},
   "outputs": [],
   "source": [
    "df_total[['SN','PID','K_SN', 'K_D1', 'K_D2', 'CLS_NAME']].describe()"
   ]
  },
  {
   "cell_type": "code",
   "execution_count": null,
   "id": "interested-bubble",
   "metadata": {},
   "outputs": [],
   "source": [
    "kls_idx = {e:i for i, e in enumerate(sorted(list(set(df_total['CLS_NAME'].unique()))))}\n",
    "df_total['KLS_IDX'] = df_total['CLS_NAME'].map(kls_idx) \n",
    "df_total"
   ]
  },
  {
   "cell_type": "code",
   "execution_count": null,
   "id": "dated-lying",
   "metadata": {},
   "outputs": [],
   "source": [
    "df_train_g = df_total.query('PHASE != \"test\"').sample(frac=1.0).groupby('KLS_IDX')\n",
    "df_trains, df_vals = [], []\n",
    "for KLS_IDX, df_i in df_train_g:\n",
    "    df_trains.append(df_i.iloc[:-30])\n",
    "    df_vals.append(df_i.iloc[-30:])\n",
    "df_train = pd.concat(df_trains)\n",
    "df_val = pd.concat(df_vals)\n",
    "df_val['PHASE'] = 'val'\n",
    "df_test = df_total.query('PHASE == \"test\"')\n",
    "df_total = pd.concat([df_train, df_val, df_test])\n",
    "df_total"
   ]
  },
  {
   "cell_type": "code",
   "execution_count": null,
   "id": "a44e8b39-dd58-443f-9082-73b9adf71abc",
   "metadata": {},
   "outputs": [],
   "source": [
    "cls_train = set(df_total.query('PHASE == \"train\"')['CLS_NAME'].values)\n",
    "cls_val = set(df_total.query('PHASE == \"val\"')['CLS_NAME'].values)\n",
    "cls_test = set(df_total.query('PHASE == \"test\"')['CLS_NAME'].values)\n",
    "len(cls_train), len(cls_val), len(cls_test)"
   ]
  },
  {
   "cell_type": "code",
   "execution_count": null,
   "id": "warming-transaction",
   "metadata": {},
   "outputs": [],
   "source": [
    "df_total.to_csv('ai_hub_reid.csv', index=False)\n",
    "def to_label_txt(df, phase):\n",
    "    txt = df_total.query('PHASE == @phase')\n",
    "    txt = txt[['NAME', 'KLS_IDX']]\n",
    "    \n",
    "    file_name = f'img_list_{phase}.txt'\n",
    "    txt.to_csv(file_name, index=False)\n",
    "    return file_name \n",
    "    \n",
    "txt_train = to_label_txt(df_total, 'train')\n",
    "txt_val = to_label_txt(df_total, 'val')\n",
    "txt_test = to_label_txt(df_total, 'test')"
   ]
  },
  {
   "cell_type": "code",
   "execution_count": null,
   "id": "designed-margin",
   "metadata": {},
   "outputs": [],
   "source": [
    "import cv2\n",
    "from tqdm.auto import tqdm\n",
    "\n",
    "df = pd.read_csv(txt_train)\n",
    "imgs = df.to_dict('records')\n",
    "for d in tqdm(imgs):\n",
    "    try: \n",
    "        im = cv2.imread(d['NAME'])\n",
    "    except Exception as e:\n",
    "        print(err, e)\n",
    "    "
   ]
  },
  {
   "cell_type": "code",
   "execution_count": null,
   "id": "altered-connection",
   "metadata": {},
   "outputs": [],
   "source": [
    "import cv2\n",
    "from PIL import Image\n",
    "import numpy as np\n",
    "\n",
    "item = df_total.sample(n=1).iloc[0]\n",
    "path = item['NAME']\n",
    "im = Image.open(path)\n",
    "\n",
    "def rect_pad(pil_image):\n",
    "    import numpy as np\n",
    "    from PIL import Image\n",
    "    \n",
    "    im = np.array(pil_image) \n",
    "    h, w = im.shape[:2]\n",
    "    size = max(h, w)\n",
    "    pad_h, pad_w = size-h, size -w\n",
    "    im = np.pad(im, \n",
    "           ((pad_h//2, pad_h-pad_h//2), (pad_w//2, pad_w - pad_w//2), (0,0)), \n",
    "           mode='constant', constant_values=0)\n",
    "    return Image.fromarray(im)\n",
    "rect_pad(im)"
   ]
  },
  {
   "cell_type": "code",
   "execution_count": null,
   "id": "oriented-triumph",
   "metadata": {},
   "outputs": [],
   "source": [
    "import shutil\n",
    "phase = 'test'\n",
    "df = pd.read_csv(f'img_list_{phase}.txt')\n",
    "shutil.rmtree(f'reid_data/{phase}', ignore_errors=True)\n",
    "for path, kls in tqdm(df.values):\n",
    "    dst = f'reid_data/{phase}/{kls:05d}/{Path(path).name}'\n",
    "    if not Path(dst).parent.exists():\n",
    "        Path(dst).parent.mkdir(parents=True, exist_ok=True)\n",
    "    shutil.copy(path, dst)"
   ]
  },
  {
   "cell_type": "code",
   "execution_count": null,
   "id": "4e9ac15d-844e-4c12-ad7d-1ef8a7b8a528",
   "metadata": {},
   "outputs": [],
   "source": [
    "import shutil\n",
    "from PIL import Image\n",
    "\n",
    "names = sorted(glob('reid_data/test/*'))\n",
    "\n",
    "shutil.rmtree('reid_data/eval', ignore_errors=True)\n",
    "skip = []\n",
    "for name in tqdm(names):\n",
    "    dst = name.replace('/test/', '/eval/')\n",
    "    Path(dst).mkdir(parents=True)\n",
    "    imgs = glob(f'{name}/*.png')\n",
    "    imgs = [src for src in imgs if 32 < min(Image.open(src).size)]\n",
    "    imgs = sorted(imgs)\n",
    "    imgs = imgs[:30:3]\n",
    "    for src in imgs:\n",
    "        shutil.copy(src, dst)"
   ]
  }
 ],
 "metadata": {
  "kernelspec": {
   "display_name": "Python [conda env:face_k]",
   "language": "python",
   "name": "conda-env-face_k-py"
  },
  "language_info": {
   "codemirror_mode": {
    "name": "ipython",
    "version": 3
   },
   "file_extension": ".py",
   "mimetype": "text/x-python",
   "name": "python",
   "nbconvert_exporter": "python",
   "pygments_lexer": "ipython3",
   "version": "3.8.12"
  }
 },
 "nbformat": 4,
 "nbformat_minor": 5
}
