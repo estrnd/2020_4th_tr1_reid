{
 "cells": [
  {
   "cell_type": "code",
   "execution_count": 1,
   "id": "4e040e36",
   "metadata": {
    "colab": {
     "base_uri": "https://localhost:8080/"
    },
    "executionInfo": {
     "elapsed": 50154,
     "status": "ok",
     "timestamp": 1637996278894,
     "user": {
      "displayName": "‍권택순(교원-인공지능전공)",
      "photoUrl": "https://lh3.googleusercontent.com/a/default-user=s64",
      "userId": "03219564179076333669"
     },
     "user_tz": -540
    },
    "id": "respected-government",
    "outputId": "43551533-e492-499f-a0aa-329e15265214"
   },
   "outputs": [],
   "source": [
    "import math\n",
    "import time\n",
    "import copy\n",
    "from datetime import datetime\n",
    "from pathlib import Path\n",
    "from glob import glob\n",
    "\n",
    "import torch\n",
    "import torch.nn as nn\n",
    "from torch.nn import Parameter\n",
    "import torch.optim as optim\n",
    "from torch.optim import lr_scheduler\n",
    "import torchvision.models as models\n",
    "import torchvision.transforms as transforms\n",
    "import torch.nn.functional as F\n",
    "\n",
    "import IPython.display as ipd\n",
    "\n",
    "from PIL import Image\n",
    "from tqdm.notebook import tqdm as tqdm\n",
    "\n",
    "GPU_ID = 0\n",
    "SGD_LR = 0.001\n",
    "METRIC_DIM = 512\n",
    "IMG_SIZE = 256 \n",
    "device = torch.device(f\"cuda:{GPU_ID}\")\n",
    "CROP_IMG_DIR = 'reid_data'\n",
    "BACKBONE = models.resnet50(pretrained=True)\n"
   ]
  },
  {
   "cell_type": "code",
   "execution_count": 2,
   "id": "a2b53ecd",
   "metadata": {
    "id": "orange-gospel"
   },
   "outputs": [],
   "source": [
    "from glob import glob\n",
    "from torch.utils.data import Dataset, DataLoader\n",
    "import random\n",
    "\n",
    "class FolderDataset(Dataset):\n",
    "    def __init__(self, root_dir, phase = 'train', trsf = lambda e: e):\n",
    "        self.imgs = glob(f'{root_dir}/{phase}/*/*.png')[::]\n",
    "        print('len(imgs):' ,len(self.imgs))\n",
    "        self.class_names = set([p.split('/')[-2] for p in self.imgs])\n",
    "        self.class_names = sorted(list(self.class_names))\n",
    "        self.labels = [self.class_names.index(e.split('/')[-2]) for e in self.imgs]\n",
    "        self.trsf = trsf\n",
    "        \n",
    "    def num_labels(self):\n",
    "        return len(self.class_names)\n",
    "    \n",
    "    def __len__(self):\n",
    "        return len(self.imgs)\n",
    "    \n",
    "    def __getitem__(self, idx):\n",
    "        path = self.imgs[idx]\n",
    "        label = self.labels[idx]\n",
    "        im = Image.open(path)\n",
    "        im = self.trsf(im)\n",
    "        return im, label"
   ]
  },
  {
   "cell_type": "code",
   "execution_count": 3,
   "id": "072d90ac",
   "metadata": {
    "id": "banned-variation"
   },
   "outputs": [],
   "source": [
    "data_transforms = {\n",
    "    'train': transforms.Compose([\n",
    "        transforms.Resize(int(IMG_SIZE*1.2)),\n",
    "        transforms.RandomResizedCrop(size=IMG_SIZE, scale=(0.64, 1.0), ratio=(0.9, 1.1)),\n",
    "        transforms.RandomRotation(180),\n",
    "        transforms.ColorJitter(brightness=.5, hue=.3),\n",
    "        transforms.RandomHorizontalFlip(),\n",
    "        transforms.ToTensor(),\n",
    "        transforms.RandomErasing(p=0.5, scale=(0.05, 0.1), value=0.5),\n",
    "        transforms.RandomErasing(p=0.5, scale=(0.05, 0.1), value=0.5),\n",
    "        transforms.RandomErasing(p=0.5, scale=(0.05, 0.1), value=0.5),\n",
    "        transforms.RandomErasing(p=0.5, scale=(0.05, 0.1), value=0.5),\n",
    "        transforms.RandomErasing(p=0.5, scale=(0.05, 0.1), value=0.5),\n",
    "        transforms.RandomErasing(p=0.5, scale=(0.05, 0.1), value=0.5),\n",
    "        transforms.RandomErasing(p=0.5, scale=(0.05, 0.1), value=0.5),\n",
    "        transforms.Normalize([0.485, 0.456, 0.406], [0.229, 0.224, 0.225])\n",
    "    ]),\n",
    "    'val': transforms.Compose([\n",
    "        transforms.Resize(int(IMG_SIZE*1.2)),\n",
    "        transforms.CenterCrop(IMG_SIZE),\n",
    "        transforms.ToTensor(),\n",
    "        transforms.Normalize([0.485, 0.456, 0.406], [0.229, 0.224, 0.225])\n",
    "    ]),\n",
    "}"
   ]
  },
  {
   "cell_type": "code",
   "execution_count": 4,
   "id": "512835db",
   "metadata": {
    "colab": {
     "base_uri": "https://localhost:8080/"
    },
    "executionInfo": {
     "elapsed": 40618,
     "status": "ok",
     "timestamp": 1637988322301,
     "user": {
      "displayName": "‍권택순(교원-인공지능전공)",
      "photoUrl": "https://lh3.googleusercontent.com/a/default-user=s64",
      "userId": "03219564179076333669"
     },
     "user_tz": -540
    },
    "id": "discrete-brooks",
    "outputId": "44941cd9-66c4-4dbb-9420-c260b66ae37f"
   },
   "outputs": [
    {
     "name": "stdout",
     "output_type": "stream",
     "text": [
      "len(imgs): 134062\n",
      "len(imgs): 15060\n",
      "134062\n"
     ]
    },
    {
     "data": {
      "text/plain": [
       "(2094, 235, 502)"
      ]
     },
     "execution_count": 4,
     "metadata": {},
     "output_type": "execute_result"
    }
   ],
   "source": [
    "datasets =  {phase:FolderDataset(CROP_IMG_DIR, phase, data_transforms[phase]) \n",
    "             for phase in ['train', 'val']}\n",
    "\n",
    "dataloaders = {phase: DataLoader(datasets[phase], batch_size=64, \n",
    "                             shuffle=True, num_workers=4, drop_last=True)\n",
    "               for phase in ['train', 'val']}\n",
    "\n",
    "print(len(datasets['train']))\n",
    "len(dataloaders['train']), len(dataloaders['val']), datasets['train'].num_labels()"
   ]
  },
  {
   "cell_type": "code",
   "execution_count": 5,
   "id": "072ed4e7",
   "metadata": {
    "id": "imposed-optimum"
   },
   "outputs": [],
   "source": [
    "class ArcMarginProduct(nn.Module):\n",
    "    def __init__(self, num_cls):\n",
    "        super(ArcMarginProduct, self).__init__()\n",
    "        self.num_cls = num_cls\n",
    "        self.s       = 30 \n",
    "        self.m       = 0.50 \n",
    "\n",
    "        self.weight = Parameter(torch.FloatTensor(num_cls, METRIC_DIM))\n",
    "        nn.init.xavier_uniform_(self.weight)\n",
    "\n",
    "        self.cos_m = math.cos(self.m)\n",
    "        self.sin_m = math.sin(self.m)\n",
    "        self.th = math.cos(math.pi - self.m)\n",
    "        self.mm = math.sin(math.pi - self.m) * self.m\n",
    "\n",
    "\n",
    "    def forward(self, input_features, labels):\n",
    "        cosine = F.linear(F.normalize(input_features), F.normalize(self.weight))\n",
    "        sine = torch.sqrt(1.0 - torch.pow(cosine, 2))\n",
    "\n",
    "        #cos(a + self.m) = cos(a)*cos(self.m) - sin(a)*sin(self.m)\n",
    "        phi = cosine * self.cos_m - sine * self.sin_m\n",
    "        phi = torch.where(cosine > self.th, phi, cosine - self.mm)\n",
    "\n",
    "        # convert label to one-hot\n",
    "        one_hot = torch.zeros(cosine.size(), device=device)\n",
    "        one_hot.scatter_(1, labels.view(-1, 1).long(), 1)\n",
    "\n",
    "        output = (one_hot * phi) + ((1.0 - one_hot) * cosine)\n",
    "        output *= self.s\n",
    "\n",
    "        return output"
   ]
  },
  {
   "cell_type": "code",
   "execution_count": 6,
   "id": "7ad90240",
   "metadata": {
    "colab": {
     "base_uri": "https://localhost:8080/",
     "height": 67
    },
    "executionInfo": {
     "elapsed": 2979,
     "status": "ok",
     "timestamp": 1637988325276,
     "user": {
      "displayName": "‍권택순(교원-인공지능전공)",
      "photoUrl": "https://lh3.googleusercontent.com/a/default-user=s64",
      "userId": "03219564179076333669"
     },
     "user_tz": -540
    },
    "id": "corresponding-french",
    "outputId": "dcbd854f-6758-4bef-ea21-5656ed8357ad"
   },
   "outputs": [],
   "source": [
    "class TrainModel(nn.Module):\n",
    "    def __init__(self, num_classes):\n",
    "        super(TrainModel, self).__init__()\n",
    "        backbone = BACKBONE\n",
    "        backbone.fc = nn.Linear(in_features=backbone.fc.in_features, out_features=METRIC_DIM)\n",
    "        self.backbone = backbone\n",
    "        self.metric = ArcMarginProduct(num_classes)\n",
    "        \n",
    "    def forward(self, input_imgs, labels):\n",
    "        x = self.backbone(input_imgs)\n",
    "        x = self.metric(x, labels)\n",
    "        return x\n",
    "    \n",
    "model = TrainModel(datasets['train'].num_labels())"
   ]
  },
  {
   "cell_type": "code",
   "execution_count": 7,
   "id": "0a2e3818-91d0-4642-ab5f-03cfc0fc0528",
   "metadata": {},
   "outputs": [],
   "source": [
    "def save_model(model, epoch, acc):\n",
    "    save_time = str(datetime.now()).split('.')[0].replace(' ', '_').replace('-', '').replace(':', '')\n",
    "    \n",
    "    save_dir = f'./weights_G{GPU_ID}'\n",
    "    save_path = f'{save_dir}/{save_time}_ep({epoch:03d})_acc({acc:.04f}).pt'\n",
    "    Path(save_dir).mkdir(exist_ok=True)\n",
    "    \n",
    "    torch.save(model.backbone.state_dict(), save_path) \n",
    "    print('save model', save_path)"
   ]
  },
  {
   "cell_type": "code",
   "execution_count": 8,
   "id": "be7df665",
   "metadata": {
    "id": "filled-coordinate"
   },
   "outputs": [],
   "source": [
    "def train_model(model, criterion, optimizer, scheduler, num_epochs=25):\n",
    "    since = time.time()\n",
    "\n",
    "    best_model_wts = copy.deepcopy(model.state_dict())\n",
    "    best_acc, best_epoch = -1.0, 0\n",
    "\n",
    "    for epoch in tqdm(range(num_epochs), desc='epochs'):\n",
    "\n",
    "        ds_size = 0\n",
    "        # Each epoch has a training and validation phase\n",
    "        for phase in ['train', 'val']:\n",
    "            model.train(phase == 'train') # Set model to training/evaluate mode\n",
    "\n",
    "            running_loss, running_corrects = 0.0, 0\n",
    "\n",
    "            # Iterate over data.\n",
    "            for inputs, labels in tqdm(dataloaders[phase], desc=f'{phase} ep({epoch:03d})'):\n",
    "                inputs = inputs.to(device)\n",
    "                labels = labels.to(device)\n",
    "                ds_size += labels.size(0)\n",
    "\n",
    "                # zero the parameter gradients\n",
    "                optimizer.zero_grad()\n",
    "\n",
    "                # forward: track history if only in train\n",
    "                with torch.set_grad_enabled(phase == 'train'):\n",
    "                    outputs = model(inputs, labels)\n",
    "                    _, preds = torch.max(outputs, 1)\n",
    "                    loss = criterion(outputs, labels)\n",
    "\n",
    "                    # backward + optimize only if in training phase\n",
    "                    if phase == 'train':\n",
    "                        loss.backward()\n",
    "                        optimizer.step()\n",
    "\n",
    "                # statistics\n",
    "                running_loss += loss.item() * inputs.size(0)\n",
    "                running_corrects += torch.sum(preds == labels.data)\n",
    "            if phase == 'train':\n",
    "                scheduler.step()\n",
    "\n",
    "            epoch_loss = running_loss / ds_size\n",
    "            epoch_acc = running_corrects.double() / ds_size\n",
    "\n",
    "            print(f'{phase} Loss: {epoch_loss:.4f} Acc: {epoch_acc:.4f}')\n",
    "\n",
    "            # deep copy the model\n",
    "            if phase == 'val': \n",
    "                save_model(model, epoch,  epoch_acc)\n",
    "                if epoch_acc > best_acc:\n",
    "                    best_acc, best_epoch = epoch_acc, epoch\n",
    "                    best_model_wts = copy.deepcopy(model.state_dict())\n",
    "        print('.....')\n",
    "\n",
    "    time_elapsed = time.time() - since\n",
    "    print(f'Training complete in {time_elapsed // 60:.0f}m {time_elapsed % 60:.0f}s')\n",
    "    print(f'Best val Acc: {best_acc:4f}')\n",
    "\n",
    "    # load best model weights\n",
    "    model.load_state_dict(best_model_wts)\n",
    "    return model, best_acc, best_epoch"
   ]
  },
  {
   "cell_type": "code",
   "execution_count": 9,
   "id": "554b97f0",
   "metadata": {
    "id": "significant-learning"
   },
   "outputs": [],
   "source": [
    "model = model.to(device)\n",
    "\n",
    "criterion = nn.CrossEntropyLoss()\n",
    "\n",
    "# Observe that all parameters are being optimized\n",
    "optimizer = optim.SGD(model.parameters(), lr=SGD_LR, momentum=0.9)\n",
    "\n",
    "# Decay LR by a factor of 0.1 every 5 epochs\n",
    "exp_lr_scheduler = lr_scheduler.StepLR(optimizer, step_size=30, gamma=0.1)"
   ]
  },
  {
   "cell_type": "code",
   "execution_count": null,
   "id": "36604907",
   "metadata": {
    "id": "level-family"
   },
   "outputs": [
    {
     "data": {
      "application/vnd.jupyter.widget-view+json": {
       "model_id": "caed5b42fcd9457abafa94794fc4ebae",
       "version_major": 2,
       "version_minor": 0
      },
      "text/plain": [
       "epochs:   0%|          | 0/100 [00:00<?, ?it/s]"
      ]
     },
     "metadata": {},
     "output_type": "display_data"
    },
    {
     "data": {
      "application/vnd.jupyter.widget-view+json": {
       "model_id": "2caaff6e33f44ab8946de1ae9d49194a",
       "version_major": 2,
       "version_minor": 0
      },
      "text/plain": [
       "train ep(000):   0%|          | 0/2094 [00:00<?, ?it/s]"
      ]
     },
     "metadata": {},
     "output_type": "display_data"
    },
    {
     "name": "stdout",
     "output_type": "stream",
     "text": [
      "train Loss: 18.2351 Acc: 0.0037\n"
     ]
    },
    {
     "data": {
      "application/vnd.jupyter.widget-view+json": {
       "model_id": "440b60ccb57c4296b5cc10bd9f76eb07",
       "version_major": 2,
       "version_minor": 0
      },
      "text/plain": [
       "val ep(000):   0%|          | 0/235 [00:00<?, ?it/s]"
      ]
     },
     "metadata": {},
     "output_type": "display_data"
    },
    {
     "name": "stdout",
     "output_type": "stream",
     "text": [
      "val Loss: 1.5577 Acc: 0.0015\n",
      "save model ./weights_G0/20220215_165626_ep(000)_acc(0.0015).pt\n",
      ".....\n"
     ]
    },
    {
     "data": {
      "application/vnd.jupyter.widget-view+json": {
       "model_id": "5480d5a96a2e47d9b4924b0ed856a739",
       "version_major": 2,
       "version_minor": 0
      },
      "text/plain": [
       "train ep(001):   0%|          | 0/2094 [00:00<?, ?it/s]"
      ]
     },
     "metadata": {},
     "output_type": "display_data"
    },
    {
     "name": "stdout",
     "output_type": "stream",
     "text": [
      "train Loss: 12.6454 Acc: 0.0577\n"
     ]
    },
    {
     "data": {
      "application/vnd.jupyter.widget-view+json": {
       "model_id": "632cb7d699f84fc1886e9188356ca0b4",
       "version_major": 2,
       "version_minor": 0
      },
      "text/plain": [
       "val ep(001):   0%|          | 0/235 [00:00<?, ?it/s]"
      ]
     },
     "metadata": {},
     "output_type": "display_data"
    },
    {
     "name": "stdout",
     "output_type": "stream",
     "text": [
      "val Loss: 1.0354 Acc: 0.0124\n",
      "save model ./weights_G0/20220215_170616_ep(001)_acc(0.0124).pt\n",
      ".....\n"
     ]
    },
    {
     "data": {
      "application/vnd.jupyter.widget-view+json": {
       "model_id": "b38248bdf4994d969949300c6cd28c6d",
       "version_major": 2,
       "version_minor": 0
      },
      "text/plain": [
       "train ep(002):   0%|          | 0/2094 [00:00<?, ?it/s]"
      ]
     },
     "metadata": {},
     "output_type": "display_data"
    },
    {
     "name": "stdout",
     "output_type": "stream",
     "text": [
      "train Loss: 8.0099 Acc: 0.2108\n"
     ]
    },
    {
     "data": {
      "application/vnd.jupyter.widget-view+json": {
       "model_id": "f2dae17ece3d48e7b60d94cb259c4460",
       "version_major": 2,
       "version_minor": 0
      },
      "text/plain": [
       "val ep(002):   0%|          | 0/235 [00:00<?, ?it/s]"
      ]
     },
     "metadata": {},
     "output_type": "display_data"
    },
    {
     "name": "stdout",
     "output_type": "stream",
     "text": [
      "val Loss: 0.7260 Acc: 0.0286\n",
      "save model ./weights_G0/20220215_171606_ep(002)_acc(0.0286).pt\n",
      ".....\n"
     ]
    },
    {
     "data": {
      "application/vnd.jupyter.widget-view+json": {
       "model_id": "600aacfdf12f42cf8cf5192831d0a0cb",
       "version_major": 2,
       "version_minor": 0
      },
      "text/plain": [
       "train ep(003):   0%|          | 0/2094 [00:00<?, ?it/s]"
      ]
     },
     "metadata": {},
     "output_type": "display_data"
    },
    {
     "name": "stdout",
     "output_type": "stream",
     "text": [
      "train Loss: 5.1693 Acc: 0.3924\n"
     ]
    },
    {
     "data": {
      "application/vnd.jupyter.widget-view+json": {
       "model_id": "fb926fe809d04fb18fe06c6bfcff61ed",
       "version_major": 2,
       "version_minor": 0
      },
      "text/plain": [
       "val ep(003):   0%|          | 0/235 [00:00<?, ?it/s]"
      ]
     },
     "metadata": {},
     "output_type": "display_data"
    },
    {
     "name": "stdout",
     "output_type": "stream",
     "text": [
      "val Loss: 0.6004 Acc: 0.0368\n",
      "save model ./weights_G0/20220215_172555_ep(003)_acc(0.0368).pt\n",
      ".....\n"
     ]
    },
    {
     "data": {
      "application/vnd.jupyter.widget-view+json": {
       "model_id": "ec8e631e7fcd44baafe3dae4965466f8",
       "version_major": 2,
       "version_minor": 0
      },
      "text/plain": [
       "train ep(004):   0%|          | 0/2094 [00:00<?, ?it/s]"
      ]
     },
     "metadata": {},
     "output_type": "display_data"
    },
    {
     "name": "stdout",
     "output_type": "stream",
     "text": [
      "train Loss: 3.5559 Acc: 0.5388\n"
     ]
    },
    {
     "data": {
      "application/vnd.jupyter.widget-view+json": {
       "model_id": "39c99bba15254c638a61bf4045caf4b8",
       "version_major": 2,
       "version_minor": 0
      },
      "text/plain": [
       "val ep(004):   0%|          | 0/235 [00:00<?, ?it/s]"
      ]
     },
     "metadata": {},
     "output_type": "display_data"
    },
    {
     "name": "stdout",
     "output_type": "stream",
     "text": [
      "val Loss: 0.4552 Acc: 0.0502\n",
      "save model ./weights_G0/20220215_173544_ep(004)_acc(0.0502).pt\n",
      ".....\n"
     ]
    },
    {
     "data": {
      "application/vnd.jupyter.widget-view+json": {
       "model_id": "3e42bc33868446198b98d4ec2c85d0ca",
       "version_major": 2,
       "version_minor": 0
      },
      "text/plain": [
       "train ep(005):   0%|          | 0/2094 [00:00<?, ?it/s]"
      ]
     },
     "metadata": {},
     "output_type": "display_data"
    },
    {
     "name": "stdout",
     "output_type": "stream",
     "text": [
      "train Loss: 2.5730 Acc: 0.6440\n"
     ]
    },
    {
     "data": {
      "application/vnd.jupyter.widget-view+json": {
       "model_id": "4ab5bea4353c4ce1a35c6f54308c4ce7",
       "version_major": 2,
       "version_minor": 0
      },
      "text/plain": [
       "val ep(005):   0%|          | 0/235 [00:00<?, ?it/s]"
      ]
     },
     "metadata": {},
     "output_type": "display_data"
    },
    {
     "name": "stdout",
     "output_type": "stream",
     "text": [
      "val Loss: 0.4219 Acc: 0.0542\n",
      "save model ./weights_G0/20220215_174531_ep(005)_acc(0.0542).pt\n",
      ".....\n"
     ]
    },
    {
     "data": {
      "application/vnd.jupyter.widget-view+json": {
       "model_id": "4df6a22251354137a62b7f47fcc25b04",
       "version_major": 2,
       "version_minor": 0
      },
      "text/plain": [
       "train ep(006):   0%|          | 0/2094 [00:00<?, ?it/s]"
      ]
     },
     "metadata": {},
     "output_type": "display_data"
    },
    {
     "name": "stdout",
     "output_type": "stream",
     "text": [
      "train Loss: 1.9588 Acc: 0.7193\n"
     ]
    },
    {
     "data": {
      "application/vnd.jupyter.widget-view+json": {
       "model_id": "cac3f01b2daa46bda138dc21a6e4c7ef",
       "version_major": 2,
       "version_minor": 0
      },
      "text/plain": [
       "val ep(006):   0%|          | 0/235 [00:00<?, ?it/s]"
      ]
     },
     "metadata": {},
     "output_type": "display_data"
    },
    {
     "name": "stdout",
     "output_type": "stream",
     "text": [
      "val Loss: 0.3281 Acc: 0.0629\n",
      "save model ./weights_G0/20220215_175521_ep(006)_acc(0.0629).pt\n",
      ".....\n"
     ]
    },
    {
     "data": {
      "application/vnd.jupyter.widget-view+json": {
       "model_id": "a76f525c15144709be012353b6ba7d33",
       "version_major": 2,
       "version_minor": 0
      },
      "text/plain": [
       "train ep(007):   0%|          | 0/2094 [00:00<?, ?it/s]"
      ]
     },
     "metadata": {},
     "output_type": "display_data"
    },
    {
     "name": "stdout",
     "output_type": "stream",
     "text": [
      "train Loss: 1.5914 Acc: 0.7681\n"
     ]
    },
    {
     "data": {
      "application/vnd.jupyter.widget-view+json": {
       "model_id": "e6847b28879744939327288a67c4440e",
       "version_major": 2,
       "version_minor": 0
      },
      "text/plain": [
       "val ep(007):   0%|          | 0/235 [00:00<?, ?it/s]"
      ]
     },
     "metadata": {},
     "output_type": "display_data"
    },
    {
     "name": "stdout",
     "output_type": "stream",
     "text": [
      "val Loss: 0.3031 Acc: 0.0664\n",
      "save model ./weights_G0/20220215_180512_ep(007)_acc(0.0664).pt\n",
      ".....\n"
     ]
    },
    {
     "data": {
      "application/vnd.jupyter.widget-view+json": {
       "model_id": "5a8a98bb237b4eca859628bd41102396",
       "version_major": 2,
       "version_minor": 0
      },
      "text/plain": [
       "train ep(008):   0%|          | 0/2094 [00:00<?, ?it/s]"
      ]
     },
     "metadata": {},
     "output_type": "display_data"
    },
    {
     "name": "stdout",
     "output_type": "stream",
     "text": [
      "train Loss: 1.2814 Acc: 0.8106\n"
     ]
    },
    {
     "data": {
      "application/vnd.jupyter.widget-view+json": {
       "model_id": "524ccc9d2e2145d0851d0ec61bd1d631",
       "version_major": 2,
       "version_minor": 0
      },
      "text/plain": [
       "val ep(008):   0%|          | 0/235 [00:00<?, ?it/s]"
      ]
     },
     "metadata": {},
     "output_type": "display_data"
    },
    {
     "name": "stdout",
     "output_type": "stream",
     "text": [
      "val Loss: 0.2788 Acc: 0.0694\n",
      "save model ./weights_G0/20220215_181503_ep(008)_acc(0.0694).pt\n",
      ".....\n"
     ]
    },
    {
     "data": {
      "application/vnd.jupyter.widget-view+json": {
       "model_id": "46dba56102b04ac2a577d0a25ef9b556",
       "version_major": 2,
       "version_minor": 0
      },
      "text/plain": [
       "train ep(009):   0%|          | 0/2094 [00:00<?, ?it/s]"
      ]
     },
     "metadata": {},
     "output_type": "display_data"
    },
    {
     "name": "stdout",
     "output_type": "stream",
     "text": [
      "train Loss: 1.0850 Acc: 0.8382\n"
     ]
    },
    {
     "data": {
      "application/vnd.jupyter.widget-view+json": {
       "model_id": "5080bf0969bc4748b8c0d15b22cd707a",
       "version_major": 2,
       "version_minor": 0
      },
      "text/plain": [
       "val ep(009):   0%|          | 0/235 [00:00<?, ?it/s]"
      ]
     },
     "metadata": {},
     "output_type": "display_data"
    },
    {
     "name": "stdout",
     "output_type": "stream",
     "text": [
      "val Loss: 0.2378 Acc: 0.0736\n",
      "save model ./weights_G0/20220215_182454_ep(009)_acc(0.0736).pt\n",
      ".....\n"
     ]
    },
    {
     "data": {
      "application/vnd.jupyter.widget-view+json": {
       "model_id": "0870fa9fb52e475986130c978a61069a",
       "version_major": 2,
       "version_minor": 0
      },
      "text/plain": [
       "train ep(010):   0%|          | 0/2094 [00:00<?, ?it/s]"
      ]
     },
     "metadata": {},
     "output_type": "display_data"
    },
    {
     "name": "stdout",
     "output_type": "stream",
     "text": [
      "train Loss: 0.9147 Acc: 0.8628\n"
     ]
    },
    {
     "data": {
      "application/vnd.jupyter.widget-view+json": {
       "model_id": "8dce35ae38514e5db1e330c1f0d9324a",
       "version_major": 2,
       "version_minor": 0
      },
      "text/plain": [
       "val ep(010):   0%|          | 0/235 [00:00<?, ?it/s]"
      ]
     },
     "metadata": {},
     "output_type": "display_data"
    },
    {
     "name": "stdout",
     "output_type": "stream",
     "text": [
      "val Loss: 0.2564 Acc: 0.0723\n",
      "save model ./weights_G0/20220215_183445_ep(010)_acc(0.0723).pt\n",
      ".....\n"
     ]
    },
    {
     "data": {
      "application/vnd.jupyter.widget-view+json": {
       "model_id": "a7f4793266134a10a6d53b9241d29294",
       "version_major": 2,
       "version_minor": 0
      },
      "text/plain": [
       "train ep(011):   0%|          | 0/2094 [00:00<?, ?it/s]"
      ]
     },
     "metadata": {},
     "output_type": "display_data"
    },
    {
     "name": "stdout",
     "output_type": "stream",
     "text": [
      "train Loss: 0.8088 Acc: 0.8773\n"
     ]
    },
    {
     "data": {
      "application/vnd.jupyter.widget-view+json": {
       "model_id": "b7b49ec6f5914b28bccbc26b866c78f9",
       "version_major": 2,
       "version_minor": 0
      },
      "text/plain": [
       "val ep(011):   0%|          | 0/235 [00:00<?, ?it/s]"
      ]
     },
     "metadata": {},
     "output_type": "display_data"
    },
    {
     "name": "stdout",
     "output_type": "stream",
     "text": [
      "val Loss: 0.2409 Acc: 0.0748\n",
      "save model ./weights_G0/20220215_184436_ep(011)_acc(0.0748).pt\n",
      ".....\n"
     ]
    },
    {
     "data": {
      "application/vnd.jupyter.widget-view+json": {
       "model_id": "030357fb1e3045aa9c75344a24c2973d",
       "version_major": 2,
       "version_minor": 0
      },
      "text/plain": [
       "train ep(012):   0%|          | 0/2094 [00:00<?, ?it/s]"
      ]
     },
     "metadata": {},
     "output_type": "display_data"
    },
    {
     "name": "stdout",
     "output_type": "stream",
     "text": [
      "train Loss: 0.7114 Acc: 0.8928\n"
     ]
    },
    {
     "data": {
      "application/vnd.jupyter.widget-view+json": {
       "model_id": "d88ef36c35ca49cd95de221fbc9e889e",
       "version_major": 2,
       "version_minor": 0
      },
      "text/plain": [
       "val ep(012):   0%|          | 0/235 [00:00<?, ?it/s]"
      ]
     },
     "metadata": {},
     "output_type": "display_data"
    },
    {
     "name": "stdout",
     "output_type": "stream",
     "text": [
      "val Loss: 0.3591 Acc: 0.0675\n",
      "save model ./weights_G0/20220215_185427_ep(012)_acc(0.0675).pt\n",
      ".....\n"
     ]
    },
    {
     "data": {
      "application/vnd.jupyter.widget-view+json": {
       "model_id": "10908ae0df404c368ea754e63e1a15f5",
       "version_major": 2,
       "version_minor": 0
      },
      "text/plain": [
       "train ep(013):   0%|          | 0/2094 [00:00<?, ?it/s]"
      ]
     },
     "metadata": {},
     "output_type": "display_data"
    },
    {
     "name": "stdout",
     "output_type": "stream",
     "text": [
      "train Loss: 0.6380 Acc: 0.9035\n"
     ]
    },
    {
     "data": {
      "application/vnd.jupyter.widget-view+json": {
       "model_id": "461d4ae6a93a498f9fdd5d65c1390c11",
       "version_major": 2,
       "version_minor": 0
      },
      "text/plain": [
       "val ep(013):   0%|          | 0/235 [00:00<?, ?it/s]"
      ]
     },
     "metadata": {},
     "output_type": "display_data"
    },
    {
     "name": "stdout",
     "output_type": "stream",
     "text": [
      "val Loss: 0.1955 Acc: 0.0793\n",
      "save model ./weights_G0/20220215_190418_ep(013)_acc(0.0793).pt\n",
      ".....\n"
     ]
    },
    {
     "data": {
      "application/vnd.jupyter.widget-view+json": {
       "model_id": "225fcef5c6db4a4fbb850bb525203fc5",
       "version_major": 2,
       "version_minor": 0
      },
      "text/plain": [
       "train ep(014):   0%|          | 0/2094 [00:00<?, ?it/s]"
      ]
     },
     "metadata": {},
     "output_type": "display_data"
    },
    {
     "name": "stdout",
     "output_type": "stream",
     "text": [
      "train Loss: 0.5810 Acc: 0.9118\n"
     ]
    },
    {
     "data": {
      "application/vnd.jupyter.widget-view+json": {
       "model_id": "54292c73781a4037872d87a04dd77f39",
       "version_major": 2,
       "version_minor": 0
      },
      "text/plain": [
       "val ep(014):   0%|          | 0/235 [00:00<?, ?it/s]"
      ]
     },
     "metadata": {},
     "output_type": "display_data"
    },
    {
     "name": "stdout",
     "output_type": "stream",
     "text": [
      "val Loss: 0.1738 Acc: 0.0813\n",
      "save model ./weights_G0/20220215_191408_ep(014)_acc(0.0813).pt\n",
      ".....\n"
     ]
    },
    {
     "data": {
      "application/vnd.jupyter.widget-view+json": {
       "model_id": "ba4af5c5c7064b7484fb21070a91c396",
       "version_major": 2,
       "version_minor": 0
      },
      "text/plain": [
       "train ep(015):   0%|          | 0/2094 [00:00<?, ?it/s]"
      ]
     },
     "metadata": {},
     "output_type": "display_data"
    },
    {
     "name": "stdout",
     "output_type": "stream",
     "text": [
      "train Loss: 0.5095 Acc: 0.9219\n"
     ]
    },
    {
     "data": {
      "application/vnd.jupyter.widget-view+json": {
       "model_id": "818b2c16d5054454b8480289e02e8c12",
       "version_major": 2,
       "version_minor": 0
      },
      "text/plain": [
       "val ep(015):   0%|          | 0/235 [00:00<?, ?it/s]"
      ]
     },
     "metadata": {},
     "output_type": "display_data"
    },
    {
     "name": "stdout",
     "output_type": "stream",
     "text": [
      "val Loss: 0.1653 Acc: 0.0830\n",
      "save model ./weights_G0/20220215_192358_ep(015)_acc(0.0830).pt\n",
      ".....\n"
     ]
    },
    {
     "data": {
      "application/vnd.jupyter.widget-view+json": {
       "model_id": "fd5f46312aed4a8d8f31750313d1cd97",
       "version_major": 2,
       "version_minor": 0
      },
      "text/plain": [
       "train ep(016):   0%|          | 0/2094 [00:00<?, ?it/s]"
      ]
     },
     "metadata": {},
     "output_type": "display_data"
    },
    {
     "name": "stdout",
     "output_type": "stream",
     "text": [
      "train Loss: 0.4718 Acc: 0.9280\n"
     ]
    },
    {
     "data": {
      "application/vnd.jupyter.widget-view+json": {
       "model_id": "dee58c10e1fe43bdba1f821385993d0a",
       "version_major": 2,
       "version_minor": 0
      },
      "text/plain": [
       "val ep(016):   0%|          | 0/235 [00:00<?, ?it/s]"
      ]
     },
     "metadata": {},
     "output_type": "display_data"
    },
    {
     "name": "stdout",
     "output_type": "stream",
     "text": [
      "val Loss: 0.1730 Acc: 0.0817\n",
      "save model ./weights_G0/20220215_193347_ep(016)_acc(0.0817).pt\n",
      ".....\n"
     ]
    },
    {
     "data": {
      "application/vnd.jupyter.widget-view+json": {
       "model_id": "c62b05afa9ab416d984ba34f7786afce",
       "version_major": 2,
       "version_minor": 0
      },
      "text/plain": [
       "train ep(017):   0%|          | 0/2094 [00:00<?, ?it/s]"
      ]
     },
     "metadata": {},
     "output_type": "display_data"
    },
    {
     "name": "stdout",
     "output_type": "stream",
     "text": [
      "train Loss: 0.4480 Acc: 0.9320\n"
     ]
    },
    {
     "data": {
      "application/vnd.jupyter.widget-view+json": {
       "model_id": "8ab691a2262c40989bf0515ec31681b5",
       "version_major": 2,
       "version_minor": 0
      },
      "text/plain": [
       "val ep(017):   0%|          | 0/235 [00:00<?, ?it/s]"
      ]
     },
     "metadata": {},
     "output_type": "display_data"
    },
    {
     "name": "stdout",
     "output_type": "stream",
     "text": [
      "val Loss: 0.1517 Acc: 0.0840\n",
      "save model ./weights_G0/20220215_194537_ep(017)_acc(0.0840).pt\n",
      ".....\n"
     ]
    },
    {
     "data": {
      "application/vnd.jupyter.widget-view+json": {
       "model_id": "d7107369c54c49cda1bf476c18a84ac7",
       "version_major": 2,
       "version_minor": 0
      },
      "text/plain": [
       "train ep(018):   0%|          | 0/2094 [00:00<?, ?it/s]"
      ]
     },
     "metadata": {},
     "output_type": "display_data"
    },
    {
     "name": "stderr",
     "output_type": "stream",
     "text": [
      "IOPub message rate exceeded.\n",
      "The Jupyter server will temporarily stop sending output\n",
      "to the client in order to avoid crashing it.\n",
      "To change this limit, set the config variable\n",
      "`--ServerApp.iopub_msg_rate_limit`.\n",
      "\n",
      "Current values:\n",
      "ServerApp.iopub_msg_rate_limit=1000.0 (msgs/sec)\n",
      "ServerApp.rate_limit_window=3.0 (secs)\n",
      "\n"
     ]
    },
    {
     "name": "stdout",
     "output_type": "stream",
     "text": [
      "train Loss: 0.3721 Acc: 0.9421\n"
     ]
    },
    {
     "data": {
      "application/vnd.jupyter.widget-view+json": {
       "model_id": "2028d79ff17a404db8f9d7092b40574e",
       "version_major": 2,
       "version_minor": 0
      },
      "text/plain": [
       "val ep(019):   0%|          | 0/235 [00:00<?, ?it/s]"
      ]
     },
     "metadata": {},
     "output_type": "display_data"
    },
    {
     "name": "stdout",
     "output_type": "stream",
     "text": [
      "val Loss: 0.1898 Acc: 0.0813\n",
      "save model ./weights_G0/20220215_201045_ep(019)_acc(0.0813).pt\n",
      ".....\n"
     ]
    },
    {
     "data": {
      "application/vnd.jupyter.widget-view+json": {
       "model_id": "59db06d14cab472c9ff4cc135ab36358",
       "version_major": 2,
       "version_minor": 0
      },
      "text/plain": [
       "train ep(020):   0%|          | 0/2094 [00:00<?, ?it/s]"
      ]
     },
     "metadata": {},
     "output_type": "display_data"
    },
    {
     "name": "stderr",
     "output_type": "stream",
     "text": [
      "IOPub message rate exceeded.\n",
      "The Jupyter server will temporarily stop sending output\n",
      "to the client in order to avoid crashing it.\n",
      "To change this limit, set the config variable\n",
      "`--ServerApp.iopub_msg_rate_limit`.\n",
      "\n",
      "Current values:\n",
      "ServerApp.iopub_msg_rate_limit=1000.0 (msgs/sec)\n",
      "ServerApp.rate_limit_window=3.0 (secs)\n",
      "\n"
     ]
    },
    {
     "name": "stdout",
     "output_type": "stream",
     "text": [
      "train Loss: 0.3322 Acc: 0.9489\n"
     ]
    },
    {
     "data": {
      "application/vnd.jupyter.widget-view+json": {
       "model_id": "674f6f59054044beb44fd4084a3ee945",
       "version_major": 2,
       "version_minor": 0
      },
      "text/plain": [
       "val ep(021):   0%|          | 0/235 [00:00<?, ?it/s]"
      ]
     },
     "metadata": {},
     "output_type": "display_data"
    },
    {
     "name": "stdout",
     "output_type": "stream",
     "text": [
      "val Loss: 0.1611 Acc: 0.0841\n",
      "save model ./weights_G0/20220215_203620_ep(021)_acc(0.0841).pt\n",
      ".....\n"
     ]
    },
    {
     "data": {
      "application/vnd.jupyter.widget-view+json": {
       "model_id": "5c1c205b7a644f648c6ad805cbc45c48",
       "version_major": 2,
       "version_minor": 0
      },
      "text/plain": [
       "train ep(022):   0%|          | 0/2094 [00:00<?, ?it/s]"
      ]
     },
     "metadata": {},
     "output_type": "display_data"
    },
    {
     "name": "stderr",
     "output_type": "stream",
     "text": [
      "IOPub message rate exceeded.\n",
      "The Jupyter server will temporarily stop sending output\n",
      "to the client in order to avoid crashing it.\n",
      "To change this limit, set the config variable\n",
      "`--ServerApp.iopub_msg_rate_limit`.\n",
      "\n",
      "Current values:\n",
      "ServerApp.iopub_msg_rate_limit=1000.0 (msgs/sec)\n",
      "ServerApp.rate_limit_window=3.0 (secs)\n",
      "\n"
     ]
    },
    {
     "name": "stdout",
     "output_type": "stream",
     "text": [
      "val Loss: 0.1845 Acc: 0.0822\n",
      "save model ./weights_G0/20220215_210144_ep(023)_acc(0.0822).pt\n",
      ".....\n"
     ]
    },
    {
     "data": {
      "application/vnd.jupyter.widget-view+json": {
       "model_id": "656c64aebef44f3ca455247ec26646a1",
       "version_major": 2,
       "version_minor": 0
      },
      "text/plain": [
       "train ep(024):   0%|          | 0/2094 [00:00<?, ?it/s]"
      ]
     },
     "metadata": {},
     "output_type": "display_data"
    },
    {
     "name": "stderr",
     "output_type": "stream",
     "text": [
      "IOPub message rate exceeded.\n",
      "The Jupyter server will temporarily stop sending output\n",
      "to the client in order to avoid crashing it.\n",
      "To change this limit, set the config variable\n",
      "`--ServerApp.iopub_msg_rate_limit`.\n",
      "\n",
      "Current values:\n",
      "ServerApp.iopub_msg_rate_limit=1000.0 (msgs/sec)\n",
      "ServerApp.rate_limit_window=3.0 (secs)\n",
      "\n",
      "IOPub message rate exceeded.\n",
      "The Jupyter server will temporarily stop sending output\n",
      "to the client in order to avoid crashing it.\n",
      "To change this limit, set the config variable\n",
      "`--ServerApp.iopub_msg_rate_limit`.\n",
      "\n",
      "Current values:\n",
      "ServerApp.iopub_msg_rate_limit=1000.0 (msgs/sec)\n",
      "ServerApp.rate_limit_window=3.0 (secs)\n",
      "\n",
      "IOPub message rate exceeded.\n",
      "The Jupyter server will temporarily stop sending output\n",
      "to the client in order to avoid crashing it.\n",
      "To change this limit, set the config variable\n",
      "`--ServerApp.iopub_msg_rate_limit`.\n",
      "\n",
      "Current values:\n",
      "ServerApp.iopub_msg_rate_limit=1000.0 (msgs/sec)\n",
      "ServerApp.rate_limit_window=3.0 (secs)\n",
      "\n",
      "IOPub message rate exceeded.\n",
      "The Jupyter server will temporarily stop sending output\n",
      "to the client in order to avoid crashing it.\n",
      "To change this limit, set the config variable\n",
      "`--ServerApp.iopub_msg_rate_limit`.\n",
      "\n",
      "Current values:\n",
      "ServerApp.iopub_msg_rate_limit=1000.0 (msgs/sec)\n",
      "ServerApp.rate_limit_window=3.0 (secs)\n",
      "\n"
     ]
    },
    {
     "name": "stdout",
     "output_type": "stream",
     "text": [
      "train Loss: 0.0530 Acc: 0.9914\n"
     ]
    },
    {
     "data": {
      "application/vnd.jupyter.widget-view+json": {
       "model_id": "b99fab810f564d3ebbb2174433d8ef69",
       "version_major": 2,
       "version_minor": 0
      },
      "text/plain": [
       "val ep(032):   0%|          | 0/235 [00:00<?, ?it/s]"
      ]
     },
     "metadata": {},
     "output_type": "display_data"
    },
    {
     "name": "stdout",
     "output_type": "stream",
     "text": [
      "val Loss: 0.0699 Acc: 0.0935\n",
      "save model ./weights_G0/20220215_223655_ep(032)_acc(0.0935).pt\n",
      ".....\n"
     ]
    },
    {
     "data": {
      "application/vnd.jupyter.widget-view+json": {
       "model_id": "d0b69bf3e24345e5a13c21d349d08876",
       "version_major": 2,
       "version_minor": 0
      },
      "text/plain": [
       "train ep(033):   0%|          | 0/2094 [00:00<?, ?it/s]"
      ]
     },
     "metadata": {},
     "output_type": "display_data"
    },
    {
     "name": "stderr",
     "output_type": "stream",
     "text": [
      "IOPub message rate exceeded.\n",
      "The Jupyter server will temporarily stop sending output\n",
      "to the client in order to avoid crashing it.\n",
      "To change this limit, set the config variable\n",
      "`--ServerApp.iopub_msg_rate_limit`.\n",
      "\n",
      "Current values:\n",
      "ServerApp.iopub_msg_rate_limit=1000.0 (msgs/sec)\n",
      "ServerApp.rate_limit_window=3.0 (secs)\n",
      "\n"
     ]
    },
    {
     "name": "stdout",
     "output_type": "stream",
     "text": [
      "train Loss: 0.0451 Acc: 0.9927\n"
     ]
    },
    {
     "data": {
      "application/vnd.jupyter.widget-view+json": {
       "model_id": "eff9ae4cf759482194d6abf486028b52",
       "version_major": 2,
       "version_minor": 0
      },
      "text/plain": [
       "val ep(034):   0%|          | 0/235 [00:00<?, ?it/s]"
      ]
     },
     "metadata": {},
     "output_type": "display_data"
    },
    {
     "name": "stdout",
     "output_type": "stream",
     "text": [
      "val Loss: 0.0765 Acc: 0.0932\n",
      "save model ./weights_G0/20220215_225635_ep(034)_acc(0.0932).pt\n",
      ".....\n"
     ]
    },
    {
     "data": {
      "application/vnd.jupyter.widget-view+json": {
       "model_id": "1d27e043320b475e8c1b925522d1dbba",
       "version_major": 2,
       "version_minor": 0
      },
      "text/plain": [
       "train ep(035):   0%|          | 0/2094 [00:00<?, ?it/s]"
      ]
     },
     "metadata": {},
     "output_type": "display_data"
    },
    {
     "name": "stderr",
     "output_type": "stream",
     "text": [
      "IOPub message rate exceeded.\n",
      "The Jupyter server will temporarily stop sending output\n",
      "to the client in order to avoid crashing it.\n",
      "To change this limit, set the config variable\n",
      "`--ServerApp.iopub_msg_rate_limit`.\n",
      "\n",
      "Current values:\n",
      "ServerApp.iopub_msg_rate_limit=1000.0 (msgs/sec)\n",
      "ServerApp.rate_limit_window=3.0 (secs)\n",
      "\n"
     ]
    },
    {
     "name": "stdout",
     "output_type": "stream",
     "text": [
      "train Loss: 0.0396 Acc: 0.9934\n"
     ]
    },
    {
     "data": {
      "application/vnd.jupyter.widget-view+json": {
       "model_id": "855108d3490a4ae59173a2639b51228a",
       "version_major": 2,
       "version_minor": 0
      },
      "text/plain": [
       "val ep(036):   0%|          | 0/235 [00:00<?, ?it/s]"
      ]
     },
     "metadata": {},
     "output_type": "display_data"
    },
    {
     "name": "stdout",
     "output_type": "stream",
     "text": [
      "val Loss: 0.0706 Acc: 0.0938\n",
      "save model ./weights_G0/20220215_231614_ep(036)_acc(0.0938).pt\n",
      ".....\n"
     ]
    },
    {
     "data": {
      "application/vnd.jupyter.widget-view+json": {
       "model_id": "9ec3d74ef6244ec6b2d33d2e89a0a74c",
       "version_major": 2,
       "version_minor": 0
      },
      "text/plain": [
       "train ep(037):   0%|          | 0/2094 [00:00<?, ?it/s]"
      ]
     },
     "metadata": {},
     "output_type": "display_data"
    },
    {
     "name": "stderr",
     "output_type": "stream",
     "text": [
      "IOPub message rate exceeded.\n",
      "The Jupyter server will temporarily stop sending output\n",
      "to the client in order to avoid crashing it.\n",
      "To change this limit, set the config variable\n",
      "`--ServerApp.iopub_msg_rate_limit`.\n",
      "\n",
      "Current values:\n",
      "ServerApp.iopub_msg_rate_limit=1000.0 (msgs/sec)\n",
      "ServerApp.rate_limit_window=3.0 (secs)\n",
      "\n"
     ]
    },
    {
     "name": "stdout",
     "output_type": "stream",
     "text": [
      "train Loss: 0.0356 Acc: 0.9941\n"
     ]
    },
    {
     "data": {
      "application/vnd.jupyter.widget-view+json": {
       "model_id": "0ed627fecdc3480aa47d67517d5fbded",
       "version_major": 2,
       "version_minor": 0
      },
      "text/plain": [
       "val ep(038):   0%|          | 0/235 [00:00<?, ?it/s]"
      ]
     },
     "metadata": {},
     "output_type": "display_data"
    },
    {
     "name": "stdout",
     "output_type": "stream",
     "text": [
      "val Loss: 0.0722 Acc: 0.0935\n",
      "save model ./weights_G0/20220215_233555_ep(038)_acc(0.0935).pt\n",
      ".....\n"
     ]
    },
    {
     "data": {
      "application/vnd.jupyter.widget-view+json": {
       "model_id": "534b59d1048a46a08fff4df8e1b7fb73",
       "version_major": 2,
       "version_minor": 0
      },
      "text/plain": [
       "train ep(039):   0%|          | 0/2094 [00:00<?, ?it/s]"
      ]
     },
     "metadata": {},
     "output_type": "display_data"
    },
    {
     "name": "stderr",
     "output_type": "stream",
     "text": [
      "IOPub message rate exceeded.\n",
      "The Jupyter server will temporarily stop sending output\n",
      "to the client in order to avoid crashing it.\n",
      "To change this limit, set the config variable\n",
      "`--ServerApp.iopub_msg_rate_limit`.\n",
      "\n",
      "Current values:\n",
      "ServerApp.iopub_msg_rate_limit=1000.0 (msgs/sec)\n",
      "ServerApp.rate_limit_window=3.0 (secs)\n",
      "\n",
      "IOPub message rate exceeded.\n",
      "The Jupyter server will temporarily stop sending output\n",
      "to the client in order to avoid crashing it.\n",
      "To change this limit, set the config variable\n",
      "`--ServerApp.iopub_msg_rate_limit`.\n",
      "\n",
      "Current values:\n",
      "ServerApp.iopub_msg_rate_limit=1000.0 (msgs/sec)\n",
      "ServerApp.rate_limit_window=3.0 (secs)\n",
      "\n",
      "IOPub message rate exceeded.\n",
      "The Jupyter server will temporarily stop sending output\n",
      "to the client in order to avoid crashing it.\n",
      "To change this limit, set the config variable\n",
      "`--ServerApp.iopub_msg_rate_limit`.\n",
      "\n",
      "Current values:\n",
      "ServerApp.iopub_msg_rate_limit=1000.0 (msgs/sec)\n",
      "ServerApp.rate_limit_window=3.0 (secs)\n",
      "\n"
     ]
    },
    {
     "name": "stdout",
     "output_type": "stream",
     "text": [
      "train Loss: 0.0281 Acc: 0.9956\n"
     ]
    },
    {
     "data": {
      "application/vnd.jupyter.widget-view+json": {
       "model_id": "2515601d20504539af0b9ea64dba278a",
       "version_major": 2,
       "version_minor": 0
      },
      "text/plain": [
       "val ep(045):   0%|          | 0/235 [00:00<?, ?it/s]"
      ]
     },
     "metadata": {},
     "output_type": "display_data"
    },
    {
     "name": "stdout",
     "output_type": "stream",
     "text": [
      "val Loss: 0.0656 Acc: 0.0942\n",
      "save model ./weights_G0/20220216_004444_ep(045)_acc(0.0942).pt\n",
      ".....\n"
     ]
    },
    {
     "data": {
      "application/vnd.jupyter.widget-view+json": {
       "model_id": "174277bf99ea48b8be7c96348ab4035d",
       "version_major": 2,
       "version_minor": 0
      },
      "text/plain": [
       "train ep(046):   0%|          | 0/2094 [00:00<?, ?it/s]"
      ]
     },
     "metadata": {},
     "output_type": "display_data"
    },
    {
     "name": "stderr",
     "output_type": "stream",
     "text": [
      "IOPub message rate exceeded.\n",
      "The Jupyter server will temporarily stop sending output\n",
      "to the client in order to avoid crashing it.\n",
      "To change this limit, set the config variable\n",
      "`--ServerApp.iopub_msg_rate_limit`.\n",
      "\n",
      "Current values:\n",
      "ServerApp.iopub_msg_rate_limit=1000.0 (msgs/sec)\n",
      "ServerApp.rate_limit_window=3.0 (secs)\n",
      "\n"
     ]
    },
    {
     "name": "stdout",
     "output_type": "stream",
     "text": [
      "train Loss: 0.0284 Acc: 0.9953\n"
     ]
    },
    {
     "data": {
      "application/vnd.jupyter.widget-view+json": {
       "model_id": "2fadb71e03e6402d9c4bc6ba0def7de4",
       "version_major": 2,
       "version_minor": 0
      },
      "text/plain": [
       "val ep(047):   0%|          | 0/235 [00:00<?, ?it/s]"
      ]
     },
     "metadata": {},
     "output_type": "display_data"
    },
    {
     "name": "stdout",
     "output_type": "stream",
     "text": [
      "val Loss: 0.0666 Acc: 0.0940\n",
      "save model ./weights_G0/20220216_010423_ep(047)_acc(0.0940).pt\n",
      ".....\n"
     ]
    },
    {
     "data": {
      "application/vnd.jupyter.widget-view+json": {
       "model_id": "82a6582562e34c4eac1b4ad94052642a",
       "version_major": 2,
       "version_minor": 0
      },
      "text/plain": [
       "train ep(048):   0%|          | 0/2094 [00:00<?, ?it/s]"
      ]
     },
     "metadata": {},
     "output_type": "display_data"
    },
    {
     "name": "stderr",
     "output_type": "stream",
     "text": [
      "IOPub message rate exceeded.\n",
      "The Jupyter server will temporarily stop sending output\n",
      "to the client in order to avoid crashing it.\n",
      "To change this limit, set the config variable\n",
      "`--ServerApp.iopub_msg_rate_limit`.\n",
      "\n",
      "Current values:\n",
      "ServerApp.iopub_msg_rate_limit=1000.0 (msgs/sec)\n",
      "ServerApp.rate_limit_window=3.0 (secs)\n",
      "\n"
     ]
    },
    {
     "name": "stdout",
     "output_type": "stream",
     "text": [
      "train Loss: 0.0281 Acc: 0.9955\n"
     ]
    },
    {
     "data": {
      "application/vnd.jupyter.widget-view+json": {
       "model_id": "e85b4332e3314828bfa598381e9c86f9",
       "version_major": 2,
       "version_minor": 0
      },
      "text/plain": [
       "val ep(049):   0%|          | 0/235 [00:00<?, ?it/s]"
      ]
     },
     "metadata": {},
     "output_type": "display_data"
    },
    {
     "name": "stdout",
     "output_type": "stream",
     "text": [
      "val Loss: 0.0661 Acc: 0.0943\n",
      "save model ./weights_G0/20220216_012403_ep(049)_acc(0.0943).pt\n",
      ".....\n"
     ]
    },
    {
     "data": {
      "application/vnd.jupyter.widget-view+json": {
       "model_id": "da6e630ba1be4c9cb0bf78a6a25decdd",
       "version_major": 2,
       "version_minor": 0
      },
      "text/plain": [
       "train ep(050):   0%|          | 0/2094 [00:00<?, ?it/s]"
      ]
     },
     "metadata": {},
     "output_type": "display_data"
    },
    {
     "name": "stderr",
     "output_type": "stream",
     "text": [
      "IOPub message rate exceeded.\n",
      "The Jupyter server will temporarily stop sending output\n",
      "to the client in order to avoid crashing it.\n",
      "To change this limit, set the config variable\n",
      "`--ServerApp.iopub_msg_rate_limit`.\n",
      "\n",
      "Current values:\n",
      "ServerApp.iopub_msg_rate_limit=1000.0 (msgs/sec)\n",
      "ServerApp.rate_limit_window=3.0 (secs)\n",
      "\n"
     ]
    },
    {
     "name": "stdout",
     "output_type": "stream",
     "text": [
      "train Loss: 0.0258 Acc: 0.9959\n"
     ]
    },
    {
     "data": {
      "application/vnd.jupyter.widget-view+json": {
       "model_id": "a1914750429747eab790863414e59883",
       "version_major": 2,
       "version_minor": 0
      },
      "text/plain": [
       "val ep(051):   0%|          | 0/235 [00:00<?, ?it/s]"
      ]
     },
     "metadata": {},
     "output_type": "display_data"
    },
    {
     "name": "stdout",
     "output_type": "stream",
     "text": [
      "val Loss: 0.0614 Acc: 0.0946\n",
      "save model ./weights_G0/20220216_014343_ep(051)_acc(0.0946).pt\n",
      ".....\n"
     ]
    },
    {
     "data": {
      "application/vnd.jupyter.widget-view+json": {
       "model_id": "6fdf8eb2bbae4537bb3699d111d22382",
       "version_major": 2,
       "version_minor": 0
      },
      "text/plain": [
       "train ep(052):   0%|          | 0/2094 [00:00<?, ?it/s]"
      ]
     },
     "metadata": {},
     "output_type": "display_data"
    },
    {
     "name": "stderr",
     "output_type": "stream",
     "text": [
      "IOPub message rate exceeded.\n",
      "The Jupyter server will temporarily stop sending output\n",
      "to the client in order to avoid crashing it.\n",
      "To change this limit, set the config variable\n",
      "`--ServerApp.iopub_msg_rate_limit`.\n",
      "\n",
      "Current values:\n",
      "ServerApp.iopub_msg_rate_limit=1000.0 (msgs/sec)\n",
      "ServerApp.rate_limit_window=3.0 (secs)\n",
      "\n"
     ]
    },
    {
     "name": "stdout",
     "output_type": "stream",
     "text": [
      "val Loss: 0.0673 Acc: 0.0940\n",
      "save model ./weights_G0/20220216_020322_ep(053)_acc(0.0940).pt\n",
      ".....\n"
     ]
    },
    {
     "data": {
      "application/vnd.jupyter.widget-view+json": {
       "model_id": "fb15b96e66b34e64a60497362404153a",
       "version_major": 2,
       "version_minor": 0
      },
      "text/plain": [
       "train ep(054):   0%|          | 0/2094 [00:00<?, ?it/s]"
      ]
     },
     "metadata": {},
     "output_type": "display_data"
    },
    {
     "name": "stderr",
     "output_type": "stream",
     "text": [
      "IOPub message rate exceeded.\n",
      "The Jupyter server will temporarily stop sending output\n",
      "to the client in order to avoid crashing it.\n",
      "To change this limit, set the config variable\n",
      "`--ServerApp.iopub_msg_rate_limit`.\n",
      "\n",
      "Current values:\n",
      "ServerApp.iopub_msg_rate_limit=1000.0 (msgs/sec)\n",
      "ServerApp.rate_limit_window=3.0 (secs)\n",
      "\n",
      "IOPub message rate exceeded.\n",
      "The Jupyter server will temporarily stop sending output\n",
      "to the client in order to avoid crashing it.\n",
      "To change this limit, set the config variable\n",
      "`--ServerApp.iopub_msg_rate_limit`.\n",
      "\n",
      "Current values:\n",
      "ServerApp.iopub_msg_rate_limit=1000.0 (msgs/sec)\n",
      "ServerApp.rate_limit_window=3.0 (secs)\n",
      "\n"
     ]
    },
    {
     "name": "stdout",
     "output_type": "stream",
     "text": [
      "train Loss: 0.0226 Acc: 0.9963\n"
     ]
    },
    {
     "data": {
      "application/vnd.jupyter.widget-view+json": {
       "model_id": "87f36300750946c0b0df8d5c22f1bb0b",
       "version_major": 2,
       "version_minor": 0
      },
      "text/plain": [
       "val ep(058):   0%|          | 0/235 [00:00<?, ?it/s]"
      ]
     },
     "metadata": {},
     "output_type": "display_data"
    },
    {
     "name": "stdout",
     "output_type": "stream",
     "text": [
      "val Loss: 0.0690 Acc: 0.0938\n",
      "save model ./weights_G0/20220216_025231_ep(058)_acc(0.0938).pt\n",
      ".....\n"
     ]
    },
    {
     "data": {
      "application/vnd.jupyter.widget-view+json": {
       "model_id": "f8f624fcfe5c4cd8a6b7fcfac65f729a",
       "version_major": 2,
       "version_minor": 0
      },
      "text/plain": [
       "train ep(059):   0%|          | 0/2094 [00:00<?, ?it/s]"
      ]
     },
     "metadata": {},
     "output_type": "display_data"
    },
    {
     "name": "stderr",
     "output_type": "stream",
     "text": [
      "IOPub message rate exceeded.\n",
      "The Jupyter server will temporarily stop sending output\n",
      "to the client in order to avoid crashing it.\n",
      "To change this limit, set the config variable\n",
      "`--ServerApp.iopub_msg_rate_limit`.\n",
      "\n",
      "Current values:\n",
      "ServerApp.iopub_msg_rate_limit=1000.0 (msgs/sec)\n",
      "ServerApp.rate_limit_window=3.0 (secs)\n",
      "\n"
     ]
    },
    {
     "name": "stdout",
     "output_type": "stream",
     "text": [
      "train Loss: 0.0227 Acc: 0.9963\n"
     ]
    },
    {
     "data": {
      "application/vnd.jupyter.widget-view+json": {
       "model_id": "25558f44dc684a88b6dba58f20f8b10c",
       "version_major": 2,
       "version_minor": 0
      },
      "text/plain": [
       "val ep(060):   0%|          | 0/235 [00:00<?, ?it/s]"
      ]
     },
     "metadata": {},
     "output_type": "display_data"
    },
    {
     "name": "stdout",
     "output_type": "stream",
     "text": [
      "val Loss: 0.0631 Acc: 0.0944\n",
      "save model ./weights_G0/20220216_031211_ep(060)_acc(0.0944).pt\n",
      ".....\n"
     ]
    },
    {
     "data": {
      "application/vnd.jupyter.widget-view+json": {
       "model_id": "e973eed8a3164004b432ae3ff324b9e0",
       "version_major": 2,
       "version_minor": 0
      },
      "text/plain": [
       "train ep(061):   0%|          | 0/2094 [00:00<?, ?it/s]"
      ]
     },
     "metadata": {},
     "output_type": "display_data"
    },
    {
     "name": "stderr",
     "output_type": "stream",
     "text": [
      "IOPub message rate exceeded.\n",
      "The Jupyter server will temporarily stop sending output\n",
      "to the client in order to avoid crashing it.\n",
      "To change this limit, set the config variable\n",
      "`--ServerApp.iopub_msg_rate_limit`.\n",
      "\n",
      "Current values:\n",
      "ServerApp.iopub_msg_rate_limit=1000.0 (msgs/sec)\n",
      "ServerApp.rate_limit_window=3.0 (secs)\n",
      "\n"
     ]
    },
    {
     "name": "stdout",
     "output_type": "stream",
     "text": [
      "train Loss: 0.0211 Acc: 0.9964\n"
     ]
    },
    {
     "data": {
      "application/vnd.jupyter.widget-view+json": {
       "model_id": "90235bd6b6c34b5b9e01c5f6fe6f90e5",
       "version_major": 2,
       "version_minor": 0
      },
      "text/plain": [
       "val ep(062):   0%|          | 0/235 [00:00<?, ?it/s]"
      ]
     },
     "metadata": {},
     "output_type": "display_data"
    },
    {
     "name": "stdout",
     "output_type": "stream",
     "text": [
      "val Loss: 0.0633 Acc: 0.0945\n",
      "save model ./weights_G0/20220216_033151_ep(062)_acc(0.0945).pt\n",
      ".....\n"
     ]
    },
    {
     "data": {
      "application/vnd.jupyter.widget-view+json": {
       "model_id": "b77dae276fe7403099e49a57da340130",
       "version_major": 2,
       "version_minor": 0
      },
      "text/plain": [
       "train ep(063):   0%|          | 0/2094 [00:00<?, ?it/s]"
      ]
     },
     "metadata": {},
     "output_type": "display_data"
    },
    {
     "name": "stderr",
     "output_type": "stream",
     "text": [
      "IOPub message rate exceeded.\n",
      "The Jupyter server will temporarily stop sending output\n",
      "to the client in order to avoid crashing it.\n",
      "To change this limit, set the config variable\n",
      "`--ServerApp.iopub_msg_rate_limit`.\n",
      "\n",
      "Current values:\n",
      "ServerApp.iopub_msg_rate_limit=1000.0 (msgs/sec)\n",
      "ServerApp.rate_limit_window=3.0 (secs)\n",
      "\n"
     ]
    },
    {
     "name": "stdout",
     "output_type": "stream",
     "text": [
      "train Loss: 0.0210 Acc: 0.9966\n"
     ]
    },
    {
     "data": {
      "application/vnd.jupyter.widget-view+json": {
       "model_id": "6c0be0ab808c4cec9b268df29dda8b00",
       "version_major": 2,
       "version_minor": 0
      },
      "text/plain": [
       "val ep(064):   0%|          | 0/235 [00:00<?, ?it/s]"
      ]
     },
     "metadata": {},
     "output_type": "display_data"
    },
    {
     "name": "stdout",
     "output_type": "stream",
     "text": [
      "val Loss: 0.0584 Acc: 0.0946\n",
      "save model ./weights_G0/20220216_035131_ep(064)_acc(0.0946).pt\n",
      ".....\n"
     ]
    },
    {
     "data": {
      "application/vnd.jupyter.widget-view+json": {
       "model_id": "86e4177ecd24459fa4be3101644b9726",
       "version_major": 2,
       "version_minor": 0
      },
      "text/plain": [
       "train ep(065):   0%|          | 0/2094 [00:00<?, ?it/s]"
      ]
     },
     "metadata": {},
     "output_type": "display_data"
    },
    {
     "name": "stderr",
     "output_type": "stream",
     "text": [
      "IOPub message rate exceeded.\n",
      "The Jupyter server will temporarily stop sending output\n",
      "to the client in order to avoid crashing it.\n",
      "To change this limit, set the config variable\n",
      "`--ServerApp.iopub_msg_rate_limit`.\n",
      "\n",
      "Current values:\n",
      "ServerApp.iopub_msg_rate_limit=1000.0 (msgs/sec)\n",
      "ServerApp.rate_limit_window=3.0 (secs)\n",
      "\n"
     ]
    },
    {
     "name": "stdout",
     "output_type": "stream",
     "text": [
      "val Loss: 0.0656 Acc: 0.0942\n",
      "save model ./weights_G0/20220216_041110_ep(066)_acc(0.0942).pt\n",
      ".....\n"
     ]
    },
    {
     "data": {
      "application/vnd.jupyter.widget-view+json": {
       "model_id": "33306f78a6ca429f9a51ea80abe8f610",
       "version_major": 2,
       "version_minor": 0
      },
      "text/plain": [
       "train ep(067):   0%|          | 0/2094 [00:00<?, ?it/s]"
      ]
     },
     "metadata": {},
     "output_type": "display_data"
    },
    {
     "name": "stdout",
     "output_type": "stream",
     "text": [
      "train Loss: 0.0217 Acc: 0.9966\n"
     ]
    },
    {
     "data": {
      "application/vnd.jupyter.widget-view+json": {
       "model_id": "d9ad289c32424d1aa0a256ec3b81e99d",
       "version_major": 2,
       "version_minor": 0
      },
      "text/plain": [
       "val ep(067):   0%|          | 0/235 [00:00<?, ?it/s]"
      ]
     },
     "metadata": {},
     "output_type": "display_data"
    },
    {
     "name": "stdout",
     "output_type": "stream",
     "text": [
      "val Loss: 0.0591 Acc: 0.0947\n",
      "save model ./weights_G0/20220216_042101_ep(067)_acc(0.0947).pt\n",
      ".....\n"
     ]
    },
    {
     "data": {
      "application/vnd.jupyter.widget-view+json": {
       "model_id": "9cebccfd071342b58d14be04d7605595",
       "version_major": 2,
       "version_minor": 0
      },
      "text/plain": [
       "train ep(068):   0%|          | 0/2094 [00:00<?, ?it/s]"
      ]
     },
     "metadata": {},
     "output_type": "display_data"
    }
   ],
   "source": [
    "r = train_model(model, criterion, optimizer, exp_lr_scheduler, num_epochs=100)\n",
    "best_model, best_acc, best_epoch = r "
   ]
  },
  {
   "cell_type": "code",
   "execution_count": null,
   "id": "b944539b",
   "metadata": {
    "id": "colonial-pattern"
   },
   "outputs": [],
   "source": []
  },
  {
   "cell_type": "code",
   "execution_count": null,
   "id": "6fa3d89a-ec77-4d87-9012-4d49bf1f3e74",
   "metadata": {},
   "outputs": [],
   "source": []
  }
 ],
 "metadata": {
  "accelerator": "GPU",
  "colab": {
   "collapsed_sections": [],
   "name": "00_metric_train.ipynb",
   "version": ""
  },
  "kernelspec": {
   "display_name": "Python [conda env:edge]",
   "language": "python",
   "name": "conda-env-edge-py"
  },
  "language_info": {
   "codemirror_mode": {
    "name": "ipython",
    "version": 3
   },
   "file_extension": ".py",
   "mimetype": "text/x-python",
   "name": "python",
   "nbconvert_exporter": "python",
   "pygments_lexer": "ipython3",
   "version": "3.6.13"
  },
  "widgets": {
   "application/vnd.jupyter.widget-state+json": {
    "01fd6b168b9d44a3a623ec7bc7237cae": {
     "model_module": "@jupyter-widgets/controls",
     "model_module_version": "1.5.0",
     "model_name": "HBoxModel",
     "state": {
      "_dom_classes": [],
      "_model_module": "@jupyter-widgets/controls",
      "_model_module_version": "1.5.0",
      "_model_name": "HBoxModel",
      "_view_count": null,
      "_view_module": "@jupyter-widgets/controls",
      "_view_module_version": "1.5.0",
      "_view_name": "HBoxView",
      "box_style": "",
      "children": [
       "IPY_MODEL_4e86c53de69048529a217514e89d5c43",
       "IPY_MODEL_bd5b5bbb702e4fbfba75f95a25fda7b9",
       "IPY_MODEL_8b33f1e2a3704a8fa865f4b1d9229da7"
      ],
      "layout": "IPY_MODEL_061215fa3736489ea4f49596ac16a4fd"
     }
    },
    "061215fa3736489ea4f49596ac16a4fd": {
     "model_module": "@jupyter-widgets/base",
     "model_module_version": "1.2.0",
     "model_name": "LayoutModel",
     "state": {
      "_model_module": "@jupyter-widgets/base",
      "_model_module_version": "1.2.0",
      "_model_name": "LayoutModel",
      "_view_count": null,
      "_view_module": "@jupyter-widgets/base",
      "_view_module_version": "1.2.0",
      "_view_name": "LayoutView",
      "align_content": null,
      "align_items": null,
      "align_self": null,
      "border": null,
      "bottom": null,
      "display": null,
      "flex": null,
      "flex_flow": null,
      "grid_area": null,
      "grid_auto_columns": null,
      "grid_auto_flow": null,
      "grid_auto_rows": null,
      "grid_column": null,
      "grid_gap": null,
      "grid_row": null,
      "grid_template_areas": null,
      "grid_template_columns": null,
      "grid_template_rows": null,
      "height": null,
      "justify_content": null,
      "justify_items": null,
      "left": null,
      "margin": null,
      "max_height": null,
      "max_width": null,
      "min_height": null,
      "min_width": null,
      "object_fit": null,
      "object_position": null,
      "order": null,
      "overflow": null,
      "overflow_x": null,
      "overflow_y": null,
      "padding": null,
      "right": null,
      "top": null,
      "visibility": null,
      "width": null
     }
    },
    "0a7338feb77f4e6782b20bcfd681a198": {
     "model_module": "@jupyter-widgets/base",
     "model_module_version": "1.2.0",
     "model_name": "LayoutModel",
     "state": {
      "_model_module": "@jupyter-widgets/base",
      "_model_module_version": "1.2.0",
      "_model_name": "LayoutModel",
      "_view_count": null,
      "_view_module": "@jupyter-widgets/base",
      "_view_module_version": "1.2.0",
      "_view_name": "LayoutView",
      "align_content": null,
      "align_items": null,
      "align_self": null,
      "border": null,
      "bottom": null,
      "display": null,
      "flex": null,
      "flex_flow": null,
      "grid_area": null,
      "grid_auto_columns": null,
      "grid_auto_flow": null,
      "grid_auto_rows": null,
      "grid_column": null,
      "grid_gap": null,
      "grid_row": null,
      "grid_template_areas": null,
      "grid_template_columns": null,
      "grid_template_rows": null,
      "height": null,
      "justify_content": null,
      "justify_items": null,
      "left": null,
      "margin": null,
      "max_height": null,
      "max_width": null,
      "min_height": null,
      "min_width": null,
      "object_fit": null,
      "object_position": null,
      "order": null,
      "overflow": null,
      "overflow_x": null,
      "overflow_y": null,
      "padding": null,
      "right": null,
      "top": null,
      "visibility": null,
      "width": null
     }
    },
    "2d815a45513240e4bf3a691e487d0ff9": {
     "model_module": "@jupyter-widgets/controls",
     "model_module_version": "1.5.0",
     "model_name": "DescriptionStyleModel",
     "state": {
      "_model_module": "@jupyter-widgets/controls",
      "_model_module_version": "1.5.0",
      "_model_name": "DescriptionStyleModel",
      "_view_count": null,
      "_view_module": "@jupyter-widgets/base",
      "_view_module_version": "1.2.0",
      "_view_name": "StyleView",
      "description_width": ""
     }
    },
    "2f06f590a4cd4457a75b05b29166a57d": {
     "model_module": "@jupyter-widgets/controls",
     "model_module_version": "1.5.0",
     "model_name": "ProgressStyleModel",
     "state": {
      "_model_module": "@jupyter-widgets/controls",
      "_model_module_version": "1.5.0",
      "_model_name": "ProgressStyleModel",
      "_view_count": null,
      "_view_module": "@jupyter-widgets/base",
      "_view_module_version": "1.2.0",
      "_view_name": "StyleView",
      "bar_color": null,
      "description_width": ""
     }
    },
    "45d72192ddbc4f42a9be936bca2a041a": {
     "model_module": "@jupyter-widgets/base",
     "model_module_version": "1.2.0",
     "model_name": "LayoutModel",
     "state": {
      "_model_module": "@jupyter-widgets/base",
      "_model_module_version": "1.2.0",
      "_model_name": "LayoutModel",
      "_view_count": null,
      "_view_module": "@jupyter-widgets/base",
      "_view_module_version": "1.2.0",
      "_view_name": "LayoutView",
      "align_content": null,
      "align_items": null,
      "align_self": null,
      "border": null,
      "bottom": null,
      "display": null,
      "flex": null,
      "flex_flow": null,
      "grid_area": null,
      "grid_auto_columns": null,
      "grid_auto_flow": null,
      "grid_auto_rows": null,
      "grid_column": null,
      "grid_gap": null,
      "grid_row": null,
      "grid_template_areas": null,
      "grid_template_columns": null,
      "grid_template_rows": null,
      "height": null,
      "justify_content": null,
      "justify_items": null,
      "left": null,
      "margin": null,
      "max_height": null,
      "max_width": null,
      "min_height": null,
      "min_width": null,
      "object_fit": null,
      "object_position": null,
      "order": null,
      "overflow": null,
      "overflow_x": null,
      "overflow_y": null,
      "padding": null,
      "right": null,
      "top": null,
      "visibility": null,
      "width": null
     }
    },
    "4e86c53de69048529a217514e89d5c43": {
     "model_module": "@jupyter-widgets/controls",
     "model_module_version": "1.5.0",
     "model_name": "HTMLModel",
     "state": {
      "_dom_classes": [],
      "_model_module": "@jupyter-widgets/controls",
      "_model_module_version": "1.5.0",
      "_model_name": "HTMLModel",
      "_view_count": null,
      "_view_module": "@jupyter-widgets/controls",
      "_view_module_version": "1.5.0",
      "_view_name": "HTMLView",
      "description": "",
      "description_tooltip": null,
      "layout": "IPY_MODEL_45d72192ddbc4f42a9be936bca2a041a",
      "placeholder": "​",
      "style": "IPY_MODEL_2d815a45513240e4bf3a691e487d0ff9",
      "value": "100%"
     }
    },
    "8b33f1e2a3704a8fa865f4b1d9229da7": {
     "model_module": "@jupyter-widgets/controls",
     "model_module_version": "1.5.0",
     "model_name": "HTMLModel",
     "state": {
      "_dom_classes": [],
      "_model_module": "@jupyter-widgets/controls",
      "_model_module_version": "1.5.0",
      "_model_name": "HTMLModel",
      "_view_count": null,
      "_view_module": "@jupyter-widgets/controls",
      "_view_module_version": "1.5.0",
      "_view_name": "HTMLView",
      "description": "",
      "description_tooltip": null,
      "layout": "IPY_MODEL_ba2f58b0b7dd455baafdc16a6a779f71",
      "placeholder": "​",
      "style": "IPY_MODEL_f141df82ad944978a01fe7461aab548a",
      "value": " 95.8M/95.8M [00:02&lt;00:00, 52.2MB/s]"
     }
    },
    "ba2f58b0b7dd455baafdc16a6a779f71": {
     "model_module": "@jupyter-widgets/base",
     "model_module_version": "1.2.0",
     "model_name": "LayoutModel",
     "state": {
      "_model_module": "@jupyter-widgets/base",
      "_model_module_version": "1.2.0",
      "_model_name": "LayoutModel",
      "_view_count": null,
      "_view_module": "@jupyter-widgets/base",
      "_view_module_version": "1.2.0",
      "_view_name": "LayoutView",
      "align_content": null,
      "align_items": null,
      "align_self": null,
      "border": null,
      "bottom": null,
      "display": null,
      "flex": null,
      "flex_flow": null,
      "grid_area": null,
      "grid_auto_columns": null,
      "grid_auto_flow": null,
      "grid_auto_rows": null,
      "grid_column": null,
      "grid_gap": null,
      "grid_row": null,
      "grid_template_areas": null,
      "grid_template_columns": null,
      "grid_template_rows": null,
      "height": null,
      "justify_content": null,
      "justify_items": null,
      "left": null,
      "margin": null,
      "max_height": null,
      "max_width": null,
      "min_height": null,
      "min_width": null,
      "object_fit": null,
      "object_position": null,
      "order": null,
      "overflow": null,
      "overflow_x": null,
      "overflow_y": null,
      "padding": null,
      "right": null,
      "top": null,
      "visibility": null,
      "width": null
     }
    },
    "bd5b5bbb702e4fbfba75f95a25fda7b9": {
     "model_module": "@jupyter-widgets/controls",
     "model_module_version": "1.5.0",
     "model_name": "FloatProgressModel",
     "state": {
      "_dom_classes": [],
      "_model_module": "@jupyter-widgets/controls",
      "_model_module_version": "1.5.0",
      "_model_name": "FloatProgressModel",
      "_view_count": null,
      "_view_module": "@jupyter-widgets/controls",
      "_view_module_version": "1.5.0",
      "_view_name": "ProgressView",
      "bar_style": "success",
      "description": "",
      "description_tooltip": null,
      "layout": "IPY_MODEL_0a7338feb77f4e6782b20bcfd681a198",
      "max": 100441675,
      "min": 0,
      "orientation": "horizontal",
      "style": "IPY_MODEL_2f06f590a4cd4457a75b05b29166a57d",
      "value": 100441675
     }
    },
    "f141df82ad944978a01fe7461aab548a": {
     "model_module": "@jupyter-widgets/controls",
     "model_module_version": "1.5.0",
     "model_name": "DescriptionStyleModel",
     "state": {
      "_model_module": "@jupyter-widgets/controls",
      "_model_module_version": "1.5.0",
      "_model_name": "DescriptionStyleModel",
      "_view_count": null,
      "_view_module": "@jupyter-widgets/base",
      "_view_module_version": "1.2.0",
      "_view_name": "StyleView",
      "description_width": ""
     }
    }
   }
  }
 },
 "nbformat": 4,
 "nbformat_minor": 5
}
